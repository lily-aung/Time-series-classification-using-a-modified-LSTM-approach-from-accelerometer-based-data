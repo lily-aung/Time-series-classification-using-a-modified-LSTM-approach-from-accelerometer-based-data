{
 "cells": [
  {
   "cell_type": "markdown",
   "metadata": {},
   "source": [
    "# LSTM Model to detect Heel Strike and Toe-off events\n",
    "\n",
    "In this notebook, we will predict whether each sample is a heel strike or toe-off based on the accelerometer data. To do so, we train an LSTM (Long-Short Term Memory) model on 70% of the data and test it on the remaining 30%\n",
    "\n",
    "The LSTM architecture has\n",
    "- a lookback window of 3 timesteps\n",
    "- 6 features (X,Y,Z acceleration of left foot and right foot) \n",
    "- 44 hidden nodes\n",
    "\n",
    "The first step to select the Subject Id, activity and event of interest\n",
    "\n",
    "The subsequent steps to tune and test the model are as follows:\n",
    "\n",
    "1. Subset the data based on subject, activity, and event\n",
    "2. Remove noise from the data\n",
    "3. Re-scale each of the features to range (0,5)\n",
    "4. Split the data into training and testing sets  \n",
    "5. Since we are using an LSTM architecture, we will implement a look-back function that will introduce historical data determined by the window size\n",
    "6. Build and compile the Neural Network\n",
    "7. Fit the model\n",
    "8. Save the predictions and actual value to evaluate the model. The model is evaluated in terms of \n",
    "    - F1 score\n",
    "    - Percentage of true positives\n",
    "    - Mean of the absolute difference in time between true positives and corresponding GT events"
   ]
  },
  {
   "cell_type": "markdown",
   "metadata": {},
   "source": [
    "# Note: before you run the code\n",
    "\n",
    "You can adjust the subject Id, activity and event in the next cell.\n",
    "Some parts are specific to indoors/outdoors, so you will need to comment the part if needed, and uncomment it it's if not needed."
   ]
  },
  {
   "cell_type": "code",
   "execution_count": 482,
   "metadata": {},
   "outputs": [],
   "source": [
    "import pandas as pd"
   ]
  },
  {
   "cell_type": "markdown",
   "metadata": {},
   "source": [
    "## 1. Subset the data based on subject, activity and event\n"
   ]
  },
  {
   "cell_type": "code",
   "execution_count": 483,
   "metadata": {},
   "outputs": [],
   "source": [
    "####### Select Subject Id #######\n",
    "# Key in a number from 1 to 20. \n",
    "\n",
    "# 1 to 11: indoors\n",
    "# 12 to 20: outdoors\n",
    "\n",
    "SUBJECT_ID = '18'\n",
    "\n",
    "###### Select Activity ######\n",
    "# Key in one of the options below:\n",
    "\n",
    "## For indoors: \n",
    "# treadmill_walk\n",
    "# treadmill_run\n",
    "# treadmill_walknrun\n",
    "# treadmill_all (treadmill_walk + treadmill_walknrun + treadmill_slope_walk)\n",
    "# indoor_walk\n",
    "# indoor_run\n",
    "# indoor_walknrun\n",
    "\n",
    "## For outdoors:\n",
    "# outdoor_walk\n",
    "# outdoor_run\n",
    "# outdoor_walknrun\n",
    "\n",
    "ACTIVITY = 'outdoor_run'\n",
    "\n",
    "\n",
    "###### Select Event ######\n",
    "# LF_HS\n",
    "# LF_TO\n",
    "# RF_HS\n",
    "# RF_TO\n",
    "\n",
    "EVENT = 'LF_TO'"
   ]
  },
  {
   "cell_type": "code",
   "execution_count": 484,
   "metadata": {},
   "outputs": [],
   "source": [
    "# read in the data\n",
    "DATA_PATH = './Combined Data_csv format/'\n",
    "\n",
    "df = pd.read_csv(DATA_PATH + 'Sub_'+ SUBJECT_ID + '.csv', header = 0)"
   ]
  },
  {
   "cell_type": "code",
   "execution_count": 485,
   "metadata": {},
   "outputs": [
    {
     "data": {
      "text/html": [
       "<div>\n",
       "<style scoped>\n",
       "    .dataframe tbody tr th:only-of-type {\n",
       "        vertical-align: middle;\n",
       "    }\n",
       "\n",
       "    .dataframe tbody tr th {\n",
       "        vertical-align: top;\n",
       "    }\n",
       "\n",
       "    .dataframe thead th {\n",
       "        text-align: right;\n",
       "    }\n",
       "</style>\n",
       "<table border=\"1\" class=\"dataframe\">\n",
       "  <thead>\n",
       "    <tr style=\"text-align: right;\">\n",
       "      <th></th>\n",
       "      <th>accX_LF</th>\n",
       "      <th>accY_LF</th>\n",
       "      <th>accZ_LF</th>\n",
       "      <th>accX_RF</th>\n",
       "      <th>accY_RF</th>\n",
       "      <th>accZ_RF</th>\n",
       "      <th>accX_Waist</th>\n",
       "      <th>accY_Waist</th>\n",
       "      <th>accZ_Waist</th>\n",
       "      <th>accX_Wrist</th>\n",
       "      <th>accY_Wrist</th>\n",
       "      <th>accZ_Wrist</th>\n",
       "      <th>outdoor_walk</th>\n",
       "      <th>outdoor_walk_index</th>\n",
       "      <th>outdoor_walknrun</th>\n",
       "      <th>outdoor_walknrun_index</th>\n",
       "      <th>LF_HS</th>\n",
       "      <th>RF_HS</th>\n",
       "      <th>LF_TO</th>\n",
       "      <th>RF_TO</th>\n",
       "    </tr>\n",
       "  </thead>\n",
       "  <tbody>\n",
       "    <tr>\n",
       "      <th>0</th>\n",
       "      <td>-2.510</td>\n",
       "      <td>-9.882</td>\n",
       "      <td>-2.353</td>\n",
       "      <td>9.412</td>\n",
       "      <td>-19.608</td>\n",
       "      <td>-11.137</td>\n",
       "      <td>-0.471</td>\n",
       "      <td>-9.255</td>\n",
       "      <td>0.157</td>\n",
       "      <td>1.569</td>\n",
       "      <td>-8.784</td>\n",
       "      <td>2.510</td>\n",
       "      <td>1</td>\n",
       "      <td>1</td>\n",
       "      <td>1</td>\n",
       "      <td>1</td>\n",
       "      <td>0.0</td>\n",
       "      <td>0.0</td>\n",
       "      <td>0.0</td>\n",
       "      <td>0.0</td>\n",
       "    </tr>\n",
       "    <tr>\n",
       "      <th>1</th>\n",
       "      <td>-2.353</td>\n",
       "      <td>-10.039</td>\n",
       "      <td>-2.353</td>\n",
       "      <td>9.725</td>\n",
       "      <td>-18.824</td>\n",
       "      <td>-11.608</td>\n",
       "      <td>-0.471</td>\n",
       "      <td>-9.412</td>\n",
       "      <td>0.157</td>\n",
       "      <td>1.569</td>\n",
       "      <td>-8.627</td>\n",
       "      <td>2.980</td>\n",
       "      <td>1</td>\n",
       "      <td>2</td>\n",
       "      <td>1</td>\n",
       "      <td>2</td>\n",
       "      <td>0.0</td>\n",
       "      <td>0.0</td>\n",
       "      <td>0.0</td>\n",
       "      <td>0.0</td>\n",
       "    </tr>\n",
       "    <tr>\n",
       "      <th>2</th>\n",
       "      <td>-2.039</td>\n",
       "      <td>-10.196</td>\n",
       "      <td>-2.196</td>\n",
       "      <td>10.510</td>\n",
       "      <td>-18.667</td>\n",
       "      <td>-13.176</td>\n",
       "      <td>-0.627</td>\n",
       "      <td>-9.725</td>\n",
       "      <td>0.157</td>\n",
       "      <td>1.569</td>\n",
       "      <td>-8.157</td>\n",
       "      <td>2.824</td>\n",
       "      <td>1</td>\n",
       "      <td>3</td>\n",
       "      <td>1</td>\n",
       "      <td>3</td>\n",
       "      <td>0.0</td>\n",
       "      <td>0.0</td>\n",
       "      <td>0.0</td>\n",
       "      <td>0.0</td>\n",
       "    </tr>\n",
       "    <tr>\n",
       "      <th>3</th>\n",
       "      <td>-1.725</td>\n",
       "      <td>-10.039</td>\n",
       "      <td>-2.039</td>\n",
       "      <td>12.392</td>\n",
       "      <td>-18.510</td>\n",
       "      <td>-13.490</td>\n",
       "      <td>-0.784</td>\n",
       "      <td>-10.196</td>\n",
       "      <td>0.314</td>\n",
       "      <td>1.569</td>\n",
       "      <td>-8.157</td>\n",
       "      <td>3.137</td>\n",
       "      <td>1</td>\n",
       "      <td>4</td>\n",
       "      <td>1</td>\n",
       "      <td>4</td>\n",
       "      <td>0.0</td>\n",
       "      <td>0.0</td>\n",
       "      <td>0.0</td>\n",
       "      <td>0.0</td>\n",
       "    </tr>\n",
       "    <tr>\n",
       "      <th>4</th>\n",
       "      <td>-1.412</td>\n",
       "      <td>-10.039</td>\n",
       "      <td>-1.882</td>\n",
       "      <td>14.902</td>\n",
       "      <td>-17.098</td>\n",
       "      <td>-15.373</td>\n",
       "      <td>-0.941</td>\n",
       "      <td>-10.824</td>\n",
       "      <td>0.471</td>\n",
       "      <td>1.569</td>\n",
       "      <td>-7.686</td>\n",
       "      <td>3.451</td>\n",
       "      <td>1</td>\n",
       "      <td>5</td>\n",
       "      <td>1</td>\n",
       "      <td>5</td>\n",
       "      <td>0.0</td>\n",
       "      <td>0.0</td>\n",
       "      <td>0.0</td>\n",
       "      <td>0.0</td>\n",
       "    </tr>\n",
       "  </tbody>\n",
       "</table>\n",
       "</div>"
      ],
      "text/plain": [
       "   accX_LF  accY_LF  accZ_LF  accX_RF  accY_RF  accZ_RF  accX_Waist  \\\n",
       "0   -2.510   -9.882   -2.353    9.412  -19.608  -11.137      -0.471   \n",
       "1   -2.353  -10.039   -2.353    9.725  -18.824  -11.608      -0.471   \n",
       "2   -2.039  -10.196   -2.196   10.510  -18.667  -13.176      -0.627   \n",
       "3   -1.725  -10.039   -2.039   12.392  -18.510  -13.490      -0.784   \n",
       "4   -1.412  -10.039   -1.882   14.902  -17.098  -15.373      -0.941   \n",
       "\n",
       "   accY_Waist  accZ_Waist  accX_Wrist  accY_Wrist  accZ_Wrist  outdoor_walk  \\\n",
       "0      -9.255       0.157       1.569      -8.784       2.510             1   \n",
       "1      -9.412       0.157       1.569      -8.627       2.980             1   \n",
       "2      -9.725       0.157       1.569      -8.157       2.824             1   \n",
       "3     -10.196       0.314       1.569      -8.157       3.137             1   \n",
       "4     -10.824       0.471       1.569      -7.686       3.451             1   \n",
       "\n",
       "   outdoor_walk_index  outdoor_walknrun  outdoor_walknrun_index  LF_HS  RF_HS  \\\n",
       "0                   1                 1                       1    0.0    0.0   \n",
       "1                   2                 1                       2    0.0    0.0   \n",
       "2                   3                 1                       3    0.0    0.0   \n",
       "3                   4                 1                       4    0.0    0.0   \n",
       "4                   5                 1                       5    0.0    0.0   \n",
       "\n",
       "   LF_TO  RF_TO  \n",
       "0    0.0    0.0  \n",
       "1    0.0    0.0  \n",
       "2    0.0    0.0  \n",
       "3    0.0    0.0  \n",
       "4    0.0    0.0  "
      ]
     },
     "execution_count": 485,
     "metadata": {},
     "output_type": "execute_result"
    }
   ],
   "source": [
    "df = df.drop(df.columns[0], axis=1)\n",
    "df.head()"
   ]
  },
  {
   "cell_type": "markdown",
   "metadata": {},
   "source": [
    "Since there is no indicator variable for treadmill_all for subjects 1-11, let's create another column for this. The value of this data is 1 if either treadmill_walknrun is 1 or treadmill_slope_walk is 1"
   ]
  },
  {
   "cell_type": "code",
   "execution_count": 486,
   "metadata": {},
   "outputs": [
    {
     "data": {
      "text/html": [
       "<div>\n",
       "<style scoped>\n",
       "    .dataframe tbody tr th:only-of-type {\n",
       "        vertical-align: middle;\n",
       "    }\n",
       "\n",
       "    .dataframe tbody tr th {\n",
       "        vertical-align: top;\n",
       "    }\n",
       "\n",
       "    .dataframe thead th {\n",
       "        text-align: right;\n",
       "    }\n",
       "</style>\n",
       "<table border=\"1\" class=\"dataframe\">\n",
       "  <thead>\n",
       "    <tr style=\"text-align: right;\">\n",
       "      <th></th>\n",
       "      <th>accX_LF</th>\n",
       "      <th>accY_LF</th>\n",
       "      <th>accZ_LF</th>\n",
       "      <th>accX_RF</th>\n",
       "      <th>accY_RF</th>\n",
       "      <th>accZ_RF</th>\n",
       "      <th>accX_Waist</th>\n",
       "      <th>accY_Waist</th>\n",
       "      <th>accZ_Waist</th>\n",
       "      <th>accX_Wrist</th>\n",
       "      <th>...</th>\n",
       "      <th>accZ_Wrist</th>\n",
       "      <th>outdoor_walk</th>\n",
       "      <th>outdoor_walk_index</th>\n",
       "      <th>outdoor_walknrun</th>\n",
       "      <th>outdoor_walknrun_index</th>\n",
       "      <th>LF_HS</th>\n",
       "      <th>RF_HS</th>\n",
       "      <th>LF_TO</th>\n",
       "      <th>RF_TO</th>\n",
       "      <th>outdoor_run</th>\n",
       "    </tr>\n",
       "  </thead>\n",
       "  <tbody>\n",
       "    <tr>\n",
       "      <th>0</th>\n",
       "      <td>-2.510</td>\n",
       "      <td>-9.882</td>\n",
       "      <td>-2.353</td>\n",
       "      <td>9.412</td>\n",
       "      <td>-19.608</td>\n",
       "      <td>-11.137</td>\n",
       "      <td>-0.471</td>\n",
       "      <td>-9.255</td>\n",
       "      <td>0.157</td>\n",
       "      <td>1.569</td>\n",
       "      <td>...</td>\n",
       "      <td>2.510</td>\n",
       "      <td>1</td>\n",
       "      <td>1</td>\n",
       "      <td>1</td>\n",
       "      <td>1</td>\n",
       "      <td>0.0</td>\n",
       "      <td>0.0</td>\n",
       "      <td>0.0</td>\n",
       "      <td>0.0</td>\n",
       "      <td>0</td>\n",
       "    </tr>\n",
       "    <tr>\n",
       "      <th>1</th>\n",
       "      <td>-2.353</td>\n",
       "      <td>-10.039</td>\n",
       "      <td>-2.353</td>\n",
       "      <td>9.725</td>\n",
       "      <td>-18.824</td>\n",
       "      <td>-11.608</td>\n",
       "      <td>-0.471</td>\n",
       "      <td>-9.412</td>\n",
       "      <td>0.157</td>\n",
       "      <td>1.569</td>\n",
       "      <td>...</td>\n",
       "      <td>2.980</td>\n",
       "      <td>1</td>\n",
       "      <td>2</td>\n",
       "      <td>1</td>\n",
       "      <td>2</td>\n",
       "      <td>0.0</td>\n",
       "      <td>0.0</td>\n",
       "      <td>0.0</td>\n",
       "      <td>0.0</td>\n",
       "      <td>0</td>\n",
       "    </tr>\n",
       "    <tr>\n",
       "      <th>2</th>\n",
       "      <td>-2.039</td>\n",
       "      <td>-10.196</td>\n",
       "      <td>-2.196</td>\n",
       "      <td>10.510</td>\n",
       "      <td>-18.667</td>\n",
       "      <td>-13.176</td>\n",
       "      <td>-0.627</td>\n",
       "      <td>-9.725</td>\n",
       "      <td>0.157</td>\n",
       "      <td>1.569</td>\n",
       "      <td>...</td>\n",
       "      <td>2.824</td>\n",
       "      <td>1</td>\n",
       "      <td>3</td>\n",
       "      <td>1</td>\n",
       "      <td>3</td>\n",
       "      <td>0.0</td>\n",
       "      <td>0.0</td>\n",
       "      <td>0.0</td>\n",
       "      <td>0.0</td>\n",
       "      <td>0</td>\n",
       "    </tr>\n",
       "    <tr>\n",
       "      <th>3</th>\n",
       "      <td>-1.725</td>\n",
       "      <td>-10.039</td>\n",
       "      <td>-2.039</td>\n",
       "      <td>12.392</td>\n",
       "      <td>-18.510</td>\n",
       "      <td>-13.490</td>\n",
       "      <td>-0.784</td>\n",
       "      <td>-10.196</td>\n",
       "      <td>0.314</td>\n",
       "      <td>1.569</td>\n",
       "      <td>...</td>\n",
       "      <td>3.137</td>\n",
       "      <td>1</td>\n",
       "      <td>4</td>\n",
       "      <td>1</td>\n",
       "      <td>4</td>\n",
       "      <td>0.0</td>\n",
       "      <td>0.0</td>\n",
       "      <td>0.0</td>\n",
       "      <td>0.0</td>\n",
       "      <td>0</td>\n",
       "    </tr>\n",
       "    <tr>\n",
       "      <th>4</th>\n",
       "      <td>-1.412</td>\n",
       "      <td>-10.039</td>\n",
       "      <td>-1.882</td>\n",
       "      <td>14.902</td>\n",
       "      <td>-17.098</td>\n",
       "      <td>-15.373</td>\n",
       "      <td>-0.941</td>\n",
       "      <td>-10.824</td>\n",
       "      <td>0.471</td>\n",
       "      <td>1.569</td>\n",
       "      <td>...</td>\n",
       "      <td>3.451</td>\n",
       "      <td>1</td>\n",
       "      <td>5</td>\n",
       "      <td>1</td>\n",
       "      <td>5</td>\n",
       "      <td>0.0</td>\n",
       "      <td>0.0</td>\n",
       "      <td>0.0</td>\n",
       "      <td>0.0</td>\n",
       "      <td>0</td>\n",
       "    </tr>\n",
       "  </tbody>\n",
       "</table>\n",
       "<p>5 rows × 21 columns</p>\n",
       "</div>"
      ],
      "text/plain": [
       "   accX_LF  accY_LF  accZ_LF  accX_RF  accY_RF  accZ_RF  accX_Waist  \\\n",
       "0   -2.510   -9.882   -2.353    9.412  -19.608  -11.137      -0.471   \n",
       "1   -2.353  -10.039   -2.353    9.725  -18.824  -11.608      -0.471   \n",
       "2   -2.039  -10.196   -2.196   10.510  -18.667  -13.176      -0.627   \n",
       "3   -1.725  -10.039   -2.039   12.392  -18.510  -13.490      -0.784   \n",
       "4   -1.412  -10.039   -1.882   14.902  -17.098  -15.373      -0.941   \n",
       "\n",
       "   accY_Waist  accZ_Waist  accX_Wrist  ...  accZ_Wrist  outdoor_walk  \\\n",
       "0      -9.255       0.157       1.569  ...       2.510             1   \n",
       "1      -9.412       0.157       1.569  ...       2.980             1   \n",
       "2      -9.725       0.157       1.569  ...       2.824             1   \n",
       "3     -10.196       0.314       1.569  ...       3.137             1   \n",
       "4     -10.824       0.471       1.569  ...       3.451             1   \n",
       "\n",
       "   outdoor_walk_index  outdoor_walknrun  outdoor_walknrun_index  LF_HS  RF_HS  \\\n",
       "0                   1                 1                       1    0.0    0.0   \n",
       "1                   2                 1                       2    0.0    0.0   \n",
       "2                   3                 1                       3    0.0    0.0   \n",
       "3                   4                 1                       4    0.0    0.0   \n",
       "4                   5                 1                       5    0.0    0.0   \n",
       "\n",
       "   LF_TO  RF_TO  outdoor_run  \n",
       "0    0.0    0.0            0  \n",
       "1    0.0    0.0            0  \n",
       "2    0.0    0.0            0  \n",
       "3    0.0    0.0            0  \n",
       "4    0.0    0.0            0  \n",
       "\n",
       "[5 rows x 21 columns]"
      ]
     },
     "execution_count": 486,
     "metadata": {},
     "output_type": "execute_result"
    }
   ],
   "source": [
    "###############################################\n",
    "######## Specific to indoors only #############\n",
    "###############################################\n",
    "\n",
    "# for SUBJECT_ID 1 to 11, uncomment if otherwise\n",
    "\n",
    "def label_treadmill_all (row):\n",
    "   if row['treadmill_walknrun'] == 1:\n",
    "      return 1\n",
    "   if row['treadmill_slope_walk'] == 1:\n",
    "      return 1\n",
    "   return 0\n",
    "\n",
    "df['treadmill_all']=df.apply (lambda row: label_treadmill_all(row),axis=1)\n",
    "\n",
    "def label_indoor_run (row):\n",
    "   if row['indoor_walknrun'] == 1 and row['indoor_walk'] == 0:\n",
    "      return 1\n",
    "   return 0\n",
    "\n",
    "df['indoor_run']=df.apply (lambda row: label_indoor_run(row),axis=1)\n",
    "\n",
    "def label_treadmill_run (row):\n",
    "   if row['treadmill_walknrun'] == 1 and row['treadmill_walk'] == 0:\n",
    "      return 1\n",
    "   return 0\n",
    "\n",
    "df['treadmill_run']=df.apply (lambda row: label_indoor_run(row),axis=1)\n",
    "\n",
    "\n",
    "df.head()\n",
    "\n",
    "# ###############################################\n",
    "# ######## Specific to outdoors only ############\n",
    "# ###############################################\n",
    "\n",
    "# # for SUBJECT_ID 12 to 20, uncomment if otherwise\n",
    "\n",
    "# def label_outdoor_run (row):\n",
    "#    if row['outdoor_walknrun'] == 1 and row['outdoor_walk'] == 0:\n",
    "#       return 1\n",
    "#    return 0\n",
    "\n",
    "# df['outdoor_run']=df.apply (lambda row: label_outdoor_run(row),axis=1)\n",
    "\n",
    "# df.head()"
   ]
  },
  {
   "cell_type": "code",
   "execution_count": 487,
   "metadata": {},
   "outputs": [
    {
     "data": {
      "text/html": [
       "<div>\n",
       "<style scoped>\n",
       "    .dataframe tbody tr th:only-of-type {\n",
       "        vertical-align: middle;\n",
       "    }\n",
       "\n",
       "    .dataframe tbody tr th {\n",
       "        vertical-align: top;\n",
       "    }\n",
       "\n",
       "    .dataframe thead th {\n",
       "        text-align: right;\n",
       "    }\n",
       "</style>\n",
       "<table border=\"1\" class=\"dataframe\">\n",
       "  <thead>\n",
       "    <tr style=\"text-align: right;\">\n",
       "      <th></th>\n",
       "      <th>accX_LF</th>\n",
       "      <th>accY_LF</th>\n",
       "      <th>accZ_LF</th>\n",
       "      <th>accX_RF</th>\n",
       "      <th>accY_RF</th>\n",
       "      <th>accZ_RF</th>\n",
       "      <th>accX_Waist</th>\n",
       "      <th>accY_Waist</th>\n",
       "      <th>accZ_Waist</th>\n",
       "      <th>accX_Wrist</th>\n",
       "      <th>...</th>\n",
       "      <th>accZ_Wrist</th>\n",
       "      <th>outdoor_walk</th>\n",
       "      <th>outdoor_walk_index</th>\n",
       "      <th>outdoor_walknrun</th>\n",
       "      <th>outdoor_walknrun_index</th>\n",
       "      <th>LF_HS</th>\n",
       "      <th>RF_HS</th>\n",
       "      <th>LF_TO</th>\n",
       "      <th>RF_TO</th>\n",
       "      <th>outdoor_run</th>\n",
       "    </tr>\n",
       "  </thead>\n",
       "  <tbody>\n",
       "    <tr>\n",
       "      <th>23801</th>\n",
       "      <td>-12.549</td>\n",
       "      <td>-1.725</td>\n",
       "      <td>1.255</td>\n",
       "      <td>-7.686</td>\n",
       "      <td>-20.706</td>\n",
       "      <td>1.098</td>\n",
       "      <td>2.039</td>\n",
       "      <td>-11.922</td>\n",
       "      <td>-0.314</td>\n",
       "      <td>2.353</td>\n",
       "      <td>...</td>\n",
       "      <td>5.804</td>\n",
       "      <td>0</td>\n",
       "      <td>0</td>\n",
       "      <td>1</td>\n",
       "      <td>23802</td>\n",
       "      <td>0.0</td>\n",
       "      <td>0.0</td>\n",
       "      <td>0.0</td>\n",
       "      <td>0.0</td>\n",
       "      <td>1</td>\n",
       "    </tr>\n",
       "    <tr>\n",
       "      <th>23802</th>\n",
       "      <td>0.784</td>\n",
       "      <td>-4.235</td>\n",
       "      <td>-0.471</td>\n",
       "      <td>-5.490</td>\n",
       "      <td>-18.039</td>\n",
       "      <td>0.471</td>\n",
       "      <td>1.725</td>\n",
       "      <td>-12.235</td>\n",
       "      <td>2.667</td>\n",
       "      <td>3.137</td>\n",
       "      <td>...</td>\n",
       "      <td>5.804</td>\n",
       "      <td>0</td>\n",
       "      <td>0</td>\n",
       "      <td>1</td>\n",
       "      <td>23803</td>\n",
       "      <td>0.0</td>\n",
       "      <td>0.0</td>\n",
       "      <td>0.0</td>\n",
       "      <td>0.0</td>\n",
       "      <td>1</td>\n",
       "    </tr>\n",
       "    <tr>\n",
       "      <th>23803</th>\n",
       "      <td>-6.118</td>\n",
       "      <td>-11.608</td>\n",
       "      <td>-1.725</td>\n",
       "      <td>-0.784</td>\n",
       "      <td>-12.863</td>\n",
       "      <td>-1.098</td>\n",
       "      <td>0.000</td>\n",
       "      <td>-12.078</td>\n",
       "      <td>9.725</td>\n",
       "      <td>3.294</td>\n",
       "      <td>...</td>\n",
       "      <td>5.804</td>\n",
       "      <td>0</td>\n",
       "      <td>0</td>\n",
       "      <td>1</td>\n",
       "      <td>23804</td>\n",
       "      <td>0.0</td>\n",
       "      <td>0.0</td>\n",
       "      <td>0.0</td>\n",
       "      <td>0.0</td>\n",
       "      <td>1</td>\n",
       "    </tr>\n",
       "    <tr>\n",
       "      <th>23804</th>\n",
       "      <td>-8.157</td>\n",
       "      <td>-7.373</td>\n",
       "      <td>-1.255</td>\n",
       "      <td>-0.784</td>\n",
       "      <td>-14.118</td>\n",
       "      <td>-0.157</td>\n",
       "      <td>-0.314</td>\n",
       "      <td>-12.235</td>\n",
       "      <td>10.667</td>\n",
       "      <td>3.608</td>\n",
       "      <td>...</td>\n",
       "      <td>5.961</td>\n",
       "      <td>0</td>\n",
       "      <td>0</td>\n",
       "      <td>1</td>\n",
       "      <td>23805</td>\n",
       "      <td>0.0</td>\n",
       "      <td>0.0</td>\n",
       "      <td>0.0</td>\n",
       "      <td>0.0</td>\n",
       "      <td>1</td>\n",
       "    </tr>\n",
       "    <tr>\n",
       "      <th>23805</th>\n",
       "      <td>-5.333</td>\n",
       "      <td>-9.569</td>\n",
       "      <td>-0.471</td>\n",
       "      <td>1.569</td>\n",
       "      <td>-16.471</td>\n",
       "      <td>-4.549</td>\n",
       "      <td>0.314</td>\n",
       "      <td>-11.922</td>\n",
       "      <td>9.725</td>\n",
       "      <td>4.078</td>\n",
       "      <td>...</td>\n",
       "      <td>6.431</td>\n",
       "      <td>0</td>\n",
       "      <td>0</td>\n",
       "      <td>1</td>\n",
       "      <td>23806</td>\n",
       "      <td>0.0</td>\n",
       "      <td>0.0</td>\n",
       "      <td>0.0</td>\n",
       "      <td>0.0</td>\n",
       "      <td>1</td>\n",
       "    </tr>\n",
       "  </tbody>\n",
       "</table>\n",
       "<p>5 rows × 21 columns</p>\n",
       "</div>"
      ],
      "text/plain": [
       "       accX_LF  accY_LF  accZ_LF  accX_RF  accY_RF  accZ_RF  accX_Waist  \\\n",
       "23801  -12.549   -1.725    1.255   -7.686  -20.706    1.098       2.039   \n",
       "23802    0.784   -4.235   -0.471   -5.490  -18.039    0.471       1.725   \n",
       "23803   -6.118  -11.608   -1.725   -0.784  -12.863   -1.098       0.000   \n",
       "23804   -8.157   -7.373   -1.255   -0.784  -14.118   -0.157      -0.314   \n",
       "23805   -5.333   -9.569   -0.471    1.569  -16.471   -4.549       0.314   \n",
       "\n",
       "       accY_Waist  accZ_Waist  accX_Wrist  ...  accZ_Wrist  outdoor_walk  \\\n",
       "23801     -11.922      -0.314       2.353  ...       5.804             0   \n",
       "23802     -12.235       2.667       3.137  ...       5.804             0   \n",
       "23803     -12.078       9.725       3.294  ...       5.804             0   \n",
       "23804     -12.235      10.667       3.608  ...       5.961             0   \n",
       "23805     -11.922       9.725       4.078  ...       6.431             0   \n",
       "\n",
       "       outdoor_walk_index  outdoor_walknrun  outdoor_walknrun_index  LF_HS  \\\n",
       "23801                   0                 1                   23802    0.0   \n",
       "23802                   0                 1                   23803    0.0   \n",
       "23803                   0                 1                   23804    0.0   \n",
       "23804                   0                 1                   23805    0.0   \n",
       "23805                   0                 1                   23806    0.0   \n",
       "\n",
       "       RF_HS  LF_TO  RF_TO  outdoor_run  \n",
       "23801    0.0    0.0    0.0            1  \n",
       "23802    0.0    0.0    0.0            1  \n",
       "23803    0.0    0.0    0.0            1  \n",
       "23804    0.0    0.0    0.0            1  \n",
       "23805    0.0    0.0    0.0            1  \n",
       "\n",
       "[5 rows x 21 columns]"
      ]
     },
     "execution_count": 487,
     "metadata": {},
     "output_type": "execute_result"
    }
   ],
   "source": [
    "# Subset out the data by activity of interest\n",
    "\n",
    "k1=df[df[ACTIVITY]==1]\n",
    "k1.head()"
   ]
  },
  {
   "cell_type": "code",
   "execution_count": 488,
   "metadata": {},
   "outputs": [
    {
     "data": {
      "text/html": [
       "<div>\n",
       "<style scoped>\n",
       "    .dataframe tbody tr th:only-of-type {\n",
       "        vertical-align: middle;\n",
       "    }\n",
       "\n",
       "    .dataframe tbody tr th {\n",
       "        vertical-align: top;\n",
       "    }\n",
       "\n",
       "    .dataframe thead th {\n",
       "        text-align: right;\n",
       "    }\n",
       "</style>\n",
       "<table border=\"1\" class=\"dataframe\">\n",
       "  <thead>\n",
       "    <tr style=\"text-align: right;\">\n",
       "      <th></th>\n",
       "      <th>accX_LF</th>\n",
       "      <th>accY_LF</th>\n",
       "      <th>accZ_LF</th>\n",
       "      <th>accX_RF</th>\n",
       "      <th>accY_RF</th>\n",
       "      <th>accZ_RF</th>\n",
       "      <th>LF_TO</th>\n",
       "    </tr>\n",
       "  </thead>\n",
       "  <tbody>\n",
       "    <tr>\n",
       "      <th>23801</th>\n",
       "      <td>-12.549</td>\n",
       "      <td>-1.725</td>\n",
       "      <td>1.255</td>\n",
       "      <td>-7.686</td>\n",
       "      <td>-20.706</td>\n",
       "      <td>1.098</td>\n",
       "      <td>0.0</td>\n",
       "    </tr>\n",
       "    <tr>\n",
       "      <th>23802</th>\n",
       "      <td>0.784</td>\n",
       "      <td>-4.235</td>\n",
       "      <td>-0.471</td>\n",
       "      <td>-5.490</td>\n",
       "      <td>-18.039</td>\n",
       "      <td>0.471</td>\n",
       "      <td>0.0</td>\n",
       "    </tr>\n",
       "    <tr>\n",
       "      <th>23803</th>\n",
       "      <td>-6.118</td>\n",
       "      <td>-11.608</td>\n",
       "      <td>-1.725</td>\n",
       "      <td>-0.784</td>\n",
       "      <td>-12.863</td>\n",
       "      <td>-1.098</td>\n",
       "      <td>0.0</td>\n",
       "    </tr>\n",
       "    <tr>\n",
       "      <th>23804</th>\n",
       "      <td>-8.157</td>\n",
       "      <td>-7.373</td>\n",
       "      <td>-1.255</td>\n",
       "      <td>-0.784</td>\n",
       "      <td>-14.118</td>\n",
       "      <td>-0.157</td>\n",
       "      <td>0.0</td>\n",
       "    </tr>\n",
       "    <tr>\n",
       "      <th>23805</th>\n",
       "      <td>-5.333</td>\n",
       "      <td>-9.569</td>\n",
       "      <td>-0.471</td>\n",
       "      <td>1.569</td>\n",
       "      <td>-16.471</td>\n",
       "      <td>-4.549</td>\n",
       "      <td>0.0</td>\n",
       "    </tr>\n",
       "  </tbody>\n",
       "</table>\n",
       "</div>"
      ],
      "text/plain": [
       "       accX_LF  accY_LF  accZ_LF  accX_RF  accY_RF  accZ_RF  LF_TO\n",
       "23801  -12.549   -1.725    1.255   -7.686  -20.706    1.098    0.0\n",
       "23802    0.784   -4.235   -0.471   -5.490  -18.039    0.471    0.0\n",
       "23803   -6.118  -11.608   -1.725   -0.784  -12.863   -1.098    0.0\n",
       "23804   -8.157   -7.373   -1.255   -0.784  -14.118   -0.157    0.0\n",
       "23805   -5.333   -9.569   -0.471    1.569  -16.471   -4.549    0.0"
      ]
     },
     "execution_count": 488,
     "metadata": {},
     "output_type": "execute_result"
    }
   ],
   "source": [
    "# Select the columns you want -- the first few accelerometer data and event of interest\n",
    "k2 = k1[['accX_LF','accY_LF','accZ_LF','accX_RF','accY_RF','accZ_RF', EVENT]]\n",
    "k2.head()"
   ]
  },
  {
   "cell_type": "markdown",
   "metadata": {},
   "source": [
    "## 2. Remove noise from the data"
   ]
  },
  {
   "cell_type": "code",
   "execution_count": 489,
   "metadata": {},
   "outputs": [
    {
     "name": "stderr",
     "output_type": "stream",
     "text": [
      "/Users/tankh/anaconda3/lib/python3.6/site-packages/ipykernel_launcher.py:1: SettingWithCopyWarning: \n",
      "A value is trying to be set on a copy of a slice from a DataFrame.\n",
      "Try using .loc[row_indexer,col_indexer] = value instead\n",
      "\n",
      "See the caveats in the documentation: http://pandas.pydata.org/pandas-docs/stable/indexing.html#indexing-view-versus-copy\n",
      "  \"\"\"Entry point for launching an IPython kernel.\n",
      "/Users/tankh/anaconda3/lib/python3.6/site-packages/ipykernel_launcher.py:2: SettingWithCopyWarning: \n",
      "A value is trying to be set on a copy of a slice from a DataFrame.\n",
      "Try using .loc[row_indexer,col_indexer] = value instead\n",
      "\n",
      "See the caveats in the documentation: http://pandas.pydata.org/pandas-docs/stable/indexing.html#indexing-view-versus-copy\n",
      "  \n",
      "/Users/tankh/anaconda3/lib/python3.6/site-packages/ipykernel_launcher.py:3: SettingWithCopyWarning: \n",
      "A value is trying to be set on a copy of a slice from a DataFrame.\n",
      "Try using .loc[row_indexer,col_indexer] = value instead\n",
      "\n",
      "See the caveats in the documentation: http://pandas.pydata.org/pandas-docs/stable/indexing.html#indexing-view-versus-copy\n",
      "  This is separate from the ipykernel package so we can avoid doing imports until\n",
      "/Users/tankh/anaconda3/lib/python3.6/site-packages/ipykernel_launcher.py:5: SettingWithCopyWarning: \n",
      "A value is trying to be set on a copy of a slice from a DataFrame.\n",
      "Try using .loc[row_indexer,col_indexer] = value instead\n",
      "\n",
      "See the caveats in the documentation: http://pandas.pydata.org/pandas-docs/stable/indexing.html#indexing-view-versus-copy\n",
      "  \"\"\"\n",
      "/Users/tankh/anaconda3/lib/python3.6/site-packages/ipykernel_launcher.py:6: SettingWithCopyWarning: \n",
      "A value is trying to be set on a copy of a slice from a DataFrame.\n",
      "Try using .loc[row_indexer,col_indexer] = value instead\n",
      "\n",
      "See the caveats in the documentation: http://pandas.pydata.org/pandas-docs/stable/indexing.html#indexing-view-versus-copy\n",
      "  \n",
      "/Users/tankh/anaconda3/lib/python3.6/site-packages/ipykernel_launcher.py:7: SettingWithCopyWarning: \n",
      "A value is trying to be set on a copy of a slice from a DataFrame.\n",
      "Try using .loc[row_indexer,col_indexer] = value instead\n",
      "\n",
      "See the caveats in the documentation: http://pandas.pydata.org/pandas-docs/stable/indexing.html#indexing-view-versus-copy\n",
      "  import sys\n"
     ]
    },
    {
     "data": {
      "text/html": [
       "<div>\n",
       "<style scoped>\n",
       "    .dataframe tbody tr th:only-of-type {\n",
       "        vertical-align: middle;\n",
       "    }\n",
       "\n",
       "    .dataframe tbody tr th {\n",
       "        vertical-align: top;\n",
       "    }\n",
       "\n",
       "    .dataframe thead th {\n",
       "        text-align: right;\n",
       "    }\n",
       "</style>\n",
       "<table border=\"1\" class=\"dataframe\">\n",
       "  <thead>\n",
       "    <tr style=\"text-align: right;\">\n",
       "      <th></th>\n",
       "      <th>accX_LF</th>\n",
       "      <th>accY_LF</th>\n",
       "      <th>accZ_LF</th>\n",
       "      <th>accX_RF</th>\n",
       "      <th>accY_RF</th>\n",
       "      <th>accZ_RF</th>\n",
       "      <th>LF_TO</th>\n",
       "      <th>accX_LF_median</th>\n",
       "      <th>accY_LF_median</th>\n",
       "      <th>accZ_LF_median</th>\n",
       "      <th>accX_RF_median</th>\n",
       "      <th>accY_RF_median</th>\n",
       "      <th>accZ_RF_median</th>\n",
       "    </tr>\n",
       "  </thead>\n",
       "  <tbody>\n",
       "    <tr>\n",
       "      <th>23801</th>\n",
       "      <td>-12.549</td>\n",
       "      <td>-1.725</td>\n",
       "      <td>1.255</td>\n",
       "      <td>-7.686</td>\n",
       "      <td>-20.706</td>\n",
       "      <td>1.098</td>\n",
       "      <td>0.0</td>\n",
       "      <td>NaN</td>\n",
       "      <td>NaN</td>\n",
       "      <td>NaN</td>\n",
       "      <td>NaN</td>\n",
       "      <td>NaN</td>\n",
       "      <td>NaN</td>\n",
       "    </tr>\n",
       "    <tr>\n",
       "      <th>23802</th>\n",
       "      <td>0.784</td>\n",
       "      <td>-4.235</td>\n",
       "      <td>-0.471</td>\n",
       "      <td>-5.490</td>\n",
       "      <td>-18.039</td>\n",
       "      <td>0.471</td>\n",
       "      <td>0.0</td>\n",
       "      <td>NaN</td>\n",
       "      <td>NaN</td>\n",
       "      <td>NaN</td>\n",
       "      <td>NaN</td>\n",
       "      <td>NaN</td>\n",
       "      <td>NaN</td>\n",
       "    </tr>\n",
       "    <tr>\n",
       "      <th>23803</th>\n",
       "      <td>-6.118</td>\n",
       "      <td>-11.608</td>\n",
       "      <td>-1.725</td>\n",
       "      <td>-0.784</td>\n",
       "      <td>-12.863</td>\n",
       "      <td>-1.098</td>\n",
       "      <td>0.0</td>\n",
       "      <td>-5.961000</td>\n",
       "      <td>-5.856000</td>\n",
       "      <td>-0.313667</td>\n",
       "      <td>-4.653333</td>\n",
       "      <td>-17.202667</td>\n",
       "      <td>0.157000</td>\n",
       "    </tr>\n",
       "    <tr>\n",
       "      <th>23804</th>\n",
       "      <td>-8.157</td>\n",
       "      <td>-7.373</td>\n",
       "      <td>-1.255</td>\n",
       "      <td>-0.784</td>\n",
       "      <td>-14.118</td>\n",
       "      <td>-0.157</td>\n",
       "      <td>0.0</td>\n",
       "      <td>-4.497000</td>\n",
       "      <td>-7.738667</td>\n",
       "      <td>-1.150333</td>\n",
       "      <td>-2.352667</td>\n",
       "      <td>-15.006667</td>\n",
       "      <td>-0.261333</td>\n",
       "    </tr>\n",
       "    <tr>\n",
       "      <th>23805</th>\n",
       "      <td>-5.333</td>\n",
       "      <td>-9.569</td>\n",
       "      <td>-0.471</td>\n",
       "      <td>1.569</td>\n",
       "      <td>-16.471</td>\n",
       "      <td>-4.549</td>\n",
       "      <td>0.0</td>\n",
       "      <td>-6.536000</td>\n",
       "      <td>-9.516667</td>\n",
       "      <td>-1.150333</td>\n",
       "      <td>0.000333</td>\n",
       "      <td>-14.484000</td>\n",
       "      <td>-1.934667</td>\n",
       "    </tr>\n",
       "    <tr>\n",
       "      <th>23806</th>\n",
       "      <td>-3.451</td>\n",
       "      <td>-10.039</td>\n",
       "      <td>-0.471</td>\n",
       "      <td>1.412</td>\n",
       "      <td>-17.882</td>\n",
       "      <td>-5.647</td>\n",
       "      <td>0.0</td>\n",
       "      <td>-5.647000</td>\n",
       "      <td>-8.993667</td>\n",
       "      <td>-0.732333</td>\n",
       "      <td>0.732333</td>\n",
       "      <td>-16.157000</td>\n",
       "      <td>-3.451000</td>\n",
       "    </tr>\n",
       "    <tr>\n",
       "      <th>23807</th>\n",
       "      <td>-1.725</td>\n",
       "      <td>-10.667</td>\n",
       "      <td>-0.314</td>\n",
       "      <td>-0.784</td>\n",
       "      <td>-10.510</td>\n",
       "      <td>-9.569</td>\n",
       "      <td>0.0</td>\n",
       "      <td>-3.503000</td>\n",
       "      <td>-10.091667</td>\n",
       "      <td>-0.418667</td>\n",
       "      <td>0.732333</td>\n",
       "      <td>-14.954333</td>\n",
       "      <td>-6.588333</td>\n",
       "    </tr>\n",
       "    <tr>\n",
       "      <th>23808</th>\n",
       "      <td>-0.784</td>\n",
       "      <td>-11.137</td>\n",
       "      <td>-0.784</td>\n",
       "      <td>-0.314</td>\n",
       "      <td>-4.863</td>\n",
       "      <td>-8.627</td>\n",
       "      <td>0.0</td>\n",
       "      <td>-1.986667</td>\n",
       "      <td>-10.614333</td>\n",
       "      <td>-0.523000</td>\n",
       "      <td>0.104667</td>\n",
       "      <td>-11.085000</td>\n",
       "      <td>-7.947667</td>\n",
       "    </tr>\n",
       "    <tr>\n",
       "      <th>23809</th>\n",
       "      <td>-0.157</td>\n",
       "      <td>-11.294</td>\n",
       "      <td>-2.824</td>\n",
       "      <td>-2.510</td>\n",
       "      <td>-8.000</td>\n",
       "      <td>-8.157</td>\n",
       "      <td>0.0</td>\n",
       "      <td>-0.888667</td>\n",
       "      <td>-11.032667</td>\n",
       "      <td>-1.307333</td>\n",
       "      <td>-1.202667</td>\n",
       "      <td>-7.791000</td>\n",
       "      <td>-8.784333</td>\n",
       "    </tr>\n",
       "    <tr>\n",
       "      <th>23810</th>\n",
       "      <td>-1.098</td>\n",
       "      <td>-10.353</td>\n",
       "      <td>-3.137</td>\n",
       "      <td>-3.608</td>\n",
       "      <td>-13.804</td>\n",
       "      <td>2.196</td>\n",
       "      <td>0.0</td>\n",
       "      <td>-0.679667</td>\n",
       "      <td>-10.928000</td>\n",
       "      <td>-2.248333</td>\n",
       "      <td>-2.144000</td>\n",
       "      <td>-8.889000</td>\n",
       "      <td>-4.862667</td>\n",
       "    </tr>\n",
       "  </tbody>\n",
       "</table>\n",
       "</div>"
      ],
      "text/plain": [
       "       accX_LF  accY_LF  accZ_LF  accX_RF  accY_RF  accZ_RF  LF_TO  \\\n",
       "23801  -12.549   -1.725    1.255   -7.686  -20.706    1.098    0.0   \n",
       "23802    0.784   -4.235   -0.471   -5.490  -18.039    0.471    0.0   \n",
       "23803   -6.118  -11.608   -1.725   -0.784  -12.863   -1.098    0.0   \n",
       "23804   -8.157   -7.373   -1.255   -0.784  -14.118   -0.157    0.0   \n",
       "23805   -5.333   -9.569   -0.471    1.569  -16.471   -4.549    0.0   \n",
       "23806   -3.451  -10.039   -0.471    1.412  -17.882   -5.647    0.0   \n",
       "23807   -1.725  -10.667   -0.314   -0.784  -10.510   -9.569    0.0   \n",
       "23808   -0.784  -11.137   -0.784   -0.314   -4.863   -8.627    0.0   \n",
       "23809   -0.157  -11.294   -2.824   -2.510   -8.000   -8.157    0.0   \n",
       "23810   -1.098  -10.353   -3.137   -3.608  -13.804    2.196    0.0   \n",
       "\n",
       "       accX_LF_median  accY_LF_median  accZ_LF_median  accX_RF_median  \\\n",
       "23801             NaN             NaN             NaN             NaN   \n",
       "23802             NaN             NaN             NaN             NaN   \n",
       "23803       -5.961000       -5.856000       -0.313667       -4.653333   \n",
       "23804       -4.497000       -7.738667       -1.150333       -2.352667   \n",
       "23805       -6.536000       -9.516667       -1.150333        0.000333   \n",
       "23806       -5.647000       -8.993667       -0.732333        0.732333   \n",
       "23807       -3.503000      -10.091667       -0.418667        0.732333   \n",
       "23808       -1.986667      -10.614333       -0.523000        0.104667   \n",
       "23809       -0.888667      -11.032667       -1.307333       -1.202667   \n",
       "23810       -0.679667      -10.928000       -2.248333       -2.144000   \n",
       "\n",
       "       accY_RF_median  accZ_RF_median  \n",
       "23801             NaN             NaN  \n",
       "23802             NaN             NaN  \n",
       "23803      -17.202667        0.157000  \n",
       "23804      -15.006667       -0.261333  \n",
       "23805      -14.484000       -1.934667  \n",
       "23806      -16.157000       -3.451000  \n",
       "23807      -14.954333       -6.588333  \n",
       "23808      -11.085000       -7.947667  \n",
       "23809       -7.791000       -8.784333  \n",
       "23810       -8.889000       -4.862667  "
      ]
     },
     "execution_count": 489,
     "metadata": {},
     "output_type": "execute_result"
    }
   ],
   "source": [
    "k2['accX_LF_median']=k2['accX_LF'].rolling(window=3).mean()\n",
    "k2['accY_LF_median']=k2['accY_LF'].rolling(window=3).mean()\n",
    "k2['accZ_LF_median']=k2['accZ_LF'].rolling(window=3).mean()\n",
    "\n",
    "k2['accX_RF_median']=k2['accX_RF'].rolling(window=3).mean()\n",
    "k2['accY_RF_median']=k2['accY_RF'].rolling(window=3).mean()\n",
    "k2['accZ_RF_median']=k2['accZ_RF'].rolling(window=3).mean()\n",
    "\n",
    "k2[:10]"
   ]
  },
  {
   "cell_type": "code",
   "execution_count": 490,
   "metadata": {},
   "outputs": [
    {
     "data": {
      "text/plain": [
       "<matplotlib.axes._subplots.AxesSubplot at 0x1a4e96ffd0>"
      ]
     },
     "execution_count": 490,
     "metadata": {},
     "output_type": "execute_result"
    },
    {
     "data": {
      "image/png": "[encoded data removed]",
      "text/plain": [
       "<Figure size 432x288 with 1 Axes>"
      ]
     },
     "metadata": {},
     "output_type": "display_data"
    },
    {
     "data": {
      "image/png": "[encoded data removed]",
      "text/plain": [
       "<Figure size 432x288 with 1 Axes>"
      ]
     },
     "metadata": {},
     "output_type": "display_data"
    },
    {
     "data": {
      "image/png": "[encoded data removed]",
      "text/plain": [
       "<Figure size 432x288 with 1 Axes>"
      ]
     },
     "metadata": {},
     "output_type": "display_data"
    },
    {
     "data": {
      "image/png": "[encoded data removed]",
      "text/plain": [
       "<Figure size 432x288 with 1 Axes>"
      ]
     },
     "metadata": {},
     "output_type": "display_data"
    },
    {
     "data": {
      "image/png": "[encoded data removed]",
      "text/plain": [
       "<Figure size 432x288 with 1 Axes>"
      ]
     },
     "metadata": {},
     "output_type": "display_data"
    },
    {
     "data": {
      "image/png": "[encoded data removed]",
      "text/plain": [
       "<Figure size 432x288 with 1 Axes>"
      ]
     },
     "metadata": {},
     "output_type": "display_data"
    }
   ],
   "source": [
    "# Visualise\n",
    "k2[['accX_LF','accX_LF_median']][:500].plot()\n",
    "k2[['accY_LF','accY_LF_median']][:500].plot()\n",
    "k2[['accZ_LF','accZ_LF_median']][:500].plot()\n",
    "\n",
    "k2[['accX_RF','accX_RF_median']][:500].plot()\n",
    "k2[['accY_RF','accY_RF_median']][:500].plot()\n",
    "k2[['accZ_RF','accZ_RF_median']][:500].plot()"
   ]
  },
  {
   "cell_type": "code",
   "execution_count": 491,
   "metadata": {},
   "outputs": [
    {
     "data": {
      "text/html": [
       "<div>\n",
       "<style scoped>\n",
       "    .dataframe tbody tr th:only-of-type {\n",
       "        vertical-align: middle;\n",
       "    }\n",
       "\n",
       "    .dataframe tbody tr th {\n",
       "        vertical-align: top;\n",
       "    }\n",
       "\n",
       "    .dataframe thead th {\n",
       "        text-align: right;\n",
       "    }\n",
       "</style>\n",
       "<table border=\"1\" class=\"dataframe\">\n",
       "  <thead>\n",
       "    <tr style=\"text-align: right;\">\n",
       "      <th></th>\n",
       "      <th>accX_LF_median</th>\n",
       "      <th>accY_LF_median</th>\n",
       "      <th>accZ_LF_median</th>\n",
       "      <th>accX_RF_median</th>\n",
       "      <th>accY_RF_median</th>\n",
       "      <th>accZ_RF_median</th>\n",
       "      <th>LF_TO</th>\n",
       "    </tr>\n",
       "  </thead>\n",
       "  <tbody>\n",
       "    <tr>\n",
       "      <th>23805</th>\n",
       "      <td>-6.536000</td>\n",
       "      <td>-9.516667</td>\n",
       "      <td>-1.150333</td>\n",
       "      <td>0.000333</td>\n",
       "      <td>-14.484000</td>\n",
       "      <td>-1.934667</td>\n",
       "      <td>0.0</td>\n",
       "    </tr>\n",
       "    <tr>\n",
       "      <th>23806</th>\n",
       "      <td>-5.647000</td>\n",
       "      <td>-8.993667</td>\n",
       "      <td>-0.732333</td>\n",
       "      <td>0.732333</td>\n",
       "      <td>-16.157000</td>\n",
       "      <td>-3.451000</td>\n",
       "      <td>0.0</td>\n",
       "    </tr>\n",
       "    <tr>\n",
       "      <th>23807</th>\n",
       "      <td>-3.503000</td>\n",
       "      <td>-10.091667</td>\n",
       "      <td>-0.418667</td>\n",
       "      <td>0.732333</td>\n",
       "      <td>-14.954333</td>\n",
       "      <td>-6.588333</td>\n",
       "      <td>0.0</td>\n",
       "    </tr>\n",
       "    <tr>\n",
       "      <th>23808</th>\n",
       "      <td>-1.986667</td>\n",
       "      <td>-10.614333</td>\n",
       "      <td>-0.523000</td>\n",
       "      <td>0.104667</td>\n",
       "      <td>-11.085000</td>\n",
       "      <td>-7.947667</td>\n",
       "      <td>0.0</td>\n",
       "    </tr>\n",
       "    <tr>\n",
       "      <th>23809</th>\n",
       "      <td>-0.888667</td>\n",
       "      <td>-11.032667</td>\n",
       "      <td>-1.307333</td>\n",
       "      <td>-1.202667</td>\n",
       "      <td>-7.791000</td>\n",
       "      <td>-8.784333</td>\n",
       "      <td>0.0</td>\n",
       "    </tr>\n",
       "  </tbody>\n",
       "</table>\n",
       "</div>"
      ],
      "text/plain": [
       "       accX_LF_median  accY_LF_median  accZ_LF_median  accX_RF_median  \\\n",
       "23805       -6.536000       -9.516667       -1.150333        0.000333   \n",
       "23806       -5.647000       -8.993667       -0.732333        0.732333   \n",
       "23807       -3.503000      -10.091667       -0.418667        0.732333   \n",
       "23808       -1.986667      -10.614333       -0.523000        0.104667   \n",
       "23809       -0.888667      -11.032667       -1.307333       -1.202667   \n",
       "\n",
       "       accY_RF_median  accZ_RF_median  LF_TO  \n",
       "23805      -14.484000       -1.934667    0.0  \n",
       "23806      -16.157000       -3.451000    0.0  \n",
       "23807      -14.954333       -6.588333    0.0  \n",
       "23808      -11.085000       -7.947667    0.0  \n",
       "23809       -7.791000       -8.784333    0.0  "
      ]
     },
     "execution_count": 491,
     "metadata": {},
     "output_type": "execute_result"
    }
   ],
   "source": [
    "# Select the columns you want -- the rolling median accelerometer data and event of interest\n",
    "# Remove the first two rows which have no accelerometer data\n",
    "k3 = k2[['accX_LF_median','accY_LF_median','accZ_LF_median','accX_RF_median','accY_RF_median','accZ_RF_median', EVENT]]\n",
    "k3 = k3.iloc[2:]\n",
    "k3.head()"
   ]
  },
  {
   "cell_type": "markdown",
   "metadata": {},
   "source": [
    "## 3. Re-scale each of the features to range (0,5)\n",
    "\n",
    "\"LSTMs are sensitive to the scale of the input data, specifically when the sigmoid (default) or tanh activation functions are used. It can be a good practice to rescale the data, also called normalizing. We can easily normalize the dataset using the MinMaxScaler preprocessing class from the scikit-learn library.\""
   ]
  },
  {
   "cell_type": "code",
   "execution_count": 492,
   "metadata": {},
   "outputs": [],
   "source": [
    "dataset = k3.values\n",
    "\n",
    "from sklearn.preprocessing import MinMaxScaler\n",
    "\n",
    "# normalize the dataset\n",
    "scaler = MinMaxScaler(feature_range=(0, 5))\n",
    "dataset = scaler.fit_transform(dataset)"
   ]
  },
  {
   "cell_type": "markdown",
   "metadata": {},
   "source": [
    "## 4. Split the data into training and test sets\n"
   ]
  },
  {
   "cell_type": "code",
   "execution_count": 493,
   "metadata": {},
   "outputs": [
    {
     "name": "stdout",
     "output_type": "stream",
     "text": [
      "17497 7499\n"
     ]
    }
   ],
   "source": [
    "# split into train and test sets\n",
    "train_size = int(len(dataset) * 0.7)\n",
    "test_size = len(dataset) - train_size\n",
    "train, test = dataset[0:train_size,:], dataset[train_size:len(dataset),:]\n",
    "print(len(train), len(test))"
   ]
  },
  {
   "cell_type": "code",
   "execution_count": 494,
   "metadata": {},
   "outputs": [
    {
     "name": "stdout",
     "output_type": "stream",
     "text": [
      "[[2.9850764  2.32999428 2.81471868 ... 2.17179562 3.31041541 0.        ]\n",
      " [3.02472697 2.3484761  2.83044301 ... 2.098106   3.24611422 0.        ]\n",
      " [3.12035217 2.30967487 2.84224254 ... 2.15107914 3.1130734  0.        ]\n",
      " ...\n",
      " [1.44356596 2.66815636 2.89143438 ... 1.76416092 3.48559337 0.        ]\n",
      " [1.69309542 2.69586144 2.85209846 ... 1.81482895 3.57429197 0.        ]\n",
      " [1.95661482 2.68846399 2.84226761 ... 1.8516811  3.63637392 0.        ]]\n"
     ]
    }
   ],
   "source": [
    "print(train)"
   ]
  },
  {
   "cell_type": "markdown",
   "metadata": {},
   "source": [
    "## 5. Implement a look-back function that will introduce historical data determined by the window size\n",
    "\n",
    "Now we can define a function to create a new dataset, as described above.\n",
    "The function takes two arguments: the dataset, which is a NumPy array that we want to convert into a dataset, and the look_back, which is the number of previous time steps to use as input variables to predict the next time period — in this case defaulted to 1\n"
   ]
  },
  {
   "cell_type": "code",
   "execution_count": 495,
   "metadata": {},
   "outputs": [],
   "source": [
    "# convert an array of values into a dataset matrix\n",
    "def create_dataset(dataset, look_back=1):\n",
    "\tdataX, dataY = [], []\n",
    "\tfor i in range(len(dataset)-look_back-1):\n",
    "\t\ta = dataset[i:(i+look_back), 0:6]\n",
    "\t\tdataX.append(a)\n",
    "\t\tdataY.append(dataset[i + look_back, 6])\n",
    "\treturn numpy.array(dataX), numpy.array(dataY)"
   ]
  },
  {
   "cell_type": "code",
   "execution_count": 496,
   "metadata": {},
   "outputs": [],
   "source": [
    "import numpy\n",
    "\n",
    "look_back=3 # 3 timesteps\n",
    "trainX, trainY = create_dataset(train, look_back)\n",
    "testX, testY = create_dataset(test, look_back)"
   ]
  },
  {
   "cell_type": "code",
   "execution_count": 497,
   "metadata": {},
   "outputs": [
    {
     "data": {
      "text/plain": [
       "array([[[2.9850764 , 2.32999428, 2.81471868, 2.09298803, 2.17179562,\n",
       "         3.31041541],\n",
       "        [3.02472697, 2.3484761 , 2.83044301, 2.1219126 , 2.098106  ,\n",
       "         3.24611422],\n",
       "        [3.12035217, 2.30967487, 2.84224254, 2.1219126 , 2.15107914,\n",
       "         3.1130734 ]],\n",
       "\n",
       "       [[3.02472697, 2.3484761 , 2.83044301, 2.1219126 , 2.098106  ,\n",
       "         3.24611422],\n",
       "        [3.12035217, 2.30967487, 2.84224254, 2.1219126 , 2.15107914,\n",
       "         3.1130734 ],\n",
       "        [3.18798262, 2.29120482, 2.83831772, 2.0971107 , 2.32150932,\n",
       "         3.05542991]],\n",
       "\n",
       "       [[3.12035217, 2.30967487, 2.84224254, 2.1219126 , 2.15107914,\n",
       "         3.1130734 ],\n",
       "        [3.18798262, 2.29120482, 2.83831772, 2.0971107 , 2.32150932,\n",
       "         3.05542991],\n",
       "        [3.23695486, 2.27642171, 2.80881265, 2.04545215, 2.46659815,\n",
       "         3.01995047]],\n",
       "\n",
       "       [[3.18798262, 2.29120482, 2.83831772, 2.0971107 , 2.32150932,\n",
       "         3.05542991],\n",
       "        [3.23695486, 2.27642171, 2.80881265, 2.04545215, 2.46659815,\n",
       "         3.01995047],\n",
       "        [3.24627653, 2.28012043, 2.77341409, 2.00825589, 2.41823521,\n",
       "         3.18625151]],\n",
       "\n",
       "       [[3.23695486, 2.27642171, 2.80881265, 2.04545215, 2.46659815,\n",
       "         3.01995047],\n",
       "        [3.24627653, 2.28012043, 2.77341409, 2.00825589, 2.41823521,\n",
       "         3.18625151],\n",
       "        [3.19497016, 2.28565674, 2.74390901, 1.94421614, 2.32150932,\n",
       "         3.40575756]]])"
      ]
     },
     "execution_count": 497,
     "metadata": {},
     "output_type": "execute_result"
    }
   ],
   "source": [
    "trainX[0:5]"
   ]
  },
  {
   "cell_type": "code",
   "execution_count": 498,
   "metadata": {},
   "outputs": [
    {
     "data": {
      "text/plain": [
       "array([0., 0., 0., 0., 0.])"
      ]
     },
     "execution_count": 498,
     "metadata": {},
     "output_type": "execute_result"
    }
   ],
   "source": [
    "trainY[0:5]"
   ]
  },
  {
   "cell_type": "markdown",
   "metadata": {},
   "source": [
    "## 6. Build and compile the Neural Network\n",
    "\n",
    "input to be [samples, time steps, features]"
   ]
  },
  {
   "cell_type": "code",
   "execution_count": 499,
   "metadata": {},
   "outputs": [],
   "source": [
    "from keras.models import Sequential\n",
    "from keras.layers import LSTM, Dense, Dropout"
   ]
  },
  {
   "cell_type": "code",
   "execution_count": 500,
   "metadata": {},
   "outputs": [],
   "source": [
    "model = Sequential()\n",
    "\n",
    "# Recurrent layer\n",
    "model.add(LSTM(44, return_sequences=False, dropout=0.1, recurrent_dropout=0.1))\n",
    "\n",
    "# Fully connected layer\n",
    "model.add(Dense(44, activation='relu'))\n",
    "\n",
    "# Dropout for regularization\n",
    "model.add(Dropout(0.5))\n",
    "\n",
    "# Output layer\n",
    "model.add(Dense(1, activation='sigmoid'))\n",
    "\n",
    "# Compile the model\n",
    "model.compile(\n",
    "    optimizer='adam', loss='binary_crossentropy', metrics=['accuracy'])"
   ]
  },
  {
   "cell_type": "markdown",
   "metadata": {},
   "source": [
    "## 7. Fit the model\n",
    "\n",
    "Further split the training dataset into 2/3 train and 1/3 validation.\n",
    "Epoch size is 20\n",
    "Batch size is 20"
   ]
  },
  {
   "cell_type": "code",
   "execution_count": 501,
   "metadata": {},
   "outputs": [
    {
     "data": {
      "application/vnd.jupyter.widget-view+json": {
       "model_id": "fd121a6c598a42f0baeffce8e0508f6d",
       "version_major": 2,
       "version_minor": 0
      },
      "text/plain": [
       "HBox(children=(IntProgress(value=0, description='Training', max=50, style=ProgressStyle(description_width='ini…"
      ]
     },
     "metadata": {},
     "output_type": "display_data"
    },
    {
     "data": {
      "application/vnd.jupyter.widget-view+json": {
       "model_id": "",
       "version_major": 2,
       "version_minor": 0
      },
      "text/plain": [
       "HBox(children=(IntProgress(value=0, description='Epoch 0', max=11720, style=ProgressStyle(description_width='i…"
      ]
     },
     "metadata": {},
     "output_type": "display_data"
    },
    {
     "data": {
      "application/vnd.jupyter.widget-view+json": {
       "model_id": "",
       "version_major": 2,
       "version_minor": 0
      },
      "text/plain": [
       "HBox(children=(IntProgress(value=0, description='Epoch 1', max=11720, style=ProgressStyle(description_width='i…"
      ]
     },
     "metadata": {},
     "output_type": "display_data"
    },
    {
     "data": {
      "application/vnd.jupyter.widget-view+json": {
       "model_id": "",
       "version_major": 2,
       "version_minor": 0
      },
      "text/plain": [
       "HBox(children=(IntProgress(value=0, description='Epoch 2', max=11720, style=ProgressStyle(description_width='i…"
      ]
     },
     "metadata": {},
     "output_type": "display_data"
    },
    {
     "data": {
      "application/vnd.jupyter.widget-view+json": {
       "model_id": "",
       "version_major": 2,
       "version_minor": 0
      },
      "text/plain": [
       "HBox(children=(IntProgress(value=0, description='Epoch 3', max=11720, style=ProgressStyle(description_width='i…"
      ]
     },
     "metadata": {},
     "output_type": "display_data"
    },
    {
     "data": {
      "application/vnd.jupyter.widget-view+json": {
       "model_id": "",
       "version_major": 2,
       "version_minor": 0
      },
      "text/plain": [
       "HBox(children=(IntProgress(value=0, description='Epoch 4', max=11720, style=ProgressStyle(description_width='i…"
      ]
     },
     "metadata": {},
     "output_type": "display_data"
    },
    {
     "data": {
      "application/vnd.jupyter.widget-view+json": {
       "model_id": "",
       "version_major": 2,
       "version_minor": 0
      },
      "text/plain": [
       "HBox(children=(IntProgress(value=0, description='Epoch 5', max=11720, style=ProgressStyle(description_width='i…"
      ]
     },
     "metadata": {},
     "output_type": "display_data"
    },
    {
     "data": {
      "application/vnd.jupyter.widget-view+json": {
       "model_id": "",
       "version_major": 2,
       "version_minor": 0
      },
      "text/plain": [
       "HBox(children=(IntProgress(value=0, description='Epoch 6', max=11720, style=ProgressStyle(description_width='i…"
      ]
     },
     "metadata": {},
     "output_type": "display_data"
    },
    {
     "data": {
      "application/vnd.jupyter.widget-view+json": {
       "model_id": "",
       "version_major": 2,
       "version_minor": 0
      },
      "text/plain": [
       "HBox(children=(IntProgress(value=0, description='Epoch 7', max=11720, style=ProgressStyle(description_width='i…"
      ]
     },
     "metadata": {},
     "output_type": "display_data"
    },
    {
     "data": {
      "application/vnd.jupyter.widget-view+json": {
       "model_id": "",
       "version_major": 2,
       "version_minor": 0
      },
      "text/plain": [
       "HBox(children=(IntProgress(value=0, description='Epoch 8', max=11720, style=ProgressStyle(description_width='i…"
      ]
     },
     "metadata": {},
     "output_type": "display_data"
    },
    {
     "data": {
      "application/vnd.jupyter.widget-view+json": {
       "model_id": "",
       "version_major": 2,
       "version_minor": 0
      },
      "text/plain": [
       "HBox(children=(IntProgress(value=0, description='Epoch 9', max=11720, style=ProgressStyle(description_width='i…"
      ]
     },
     "metadata": {},
     "output_type": "display_data"
    },
    {
     "data": {
      "application/vnd.jupyter.widget-view+json": {
       "model_id": "",
       "version_major": 2,
       "version_minor": 0
      },
      "text/plain": [
       "HBox(children=(IntProgress(value=0, description='Epoch 10', max=11720, style=ProgressStyle(description_width='…"
      ]
     },
     "metadata": {},
     "output_type": "display_data"
    },
    {
     "data": {
      "application/vnd.jupyter.widget-view+json": {
       "model_id": "",
       "version_major": 2,
       "version_minor": 0
      },
      "text/plain": [
       "HBox(children=(IntProgress(value=0, description='Epoch 11', max=11720, style=ProgressStyle(description_width='…"
      ]
     },
     "metadata": {},
     "output_type": "display_data"
    },
    {
     "data": {
      "application/vnd.jupyter.widget-view+json": {
       "model_id": "",
       "version_major": 2,
       "version_minor": 0
      },
      "text/plain": [
       "HBox(children=(IntProgress(value=0, description='Epoch 12', max=11720, style=ProgressStyle(description_width='…"
      ]
     },
     "metadata": {},
     "output_type": "display_data"
    },
    {
     "data": {
      "application/vnd.jupyter.widget-view+json": {
       "model_id": "",
       "version_major": 2,
       "version_minor": 0
      },
      "text/plain": [
       "HBox(children=(IntProgress(value=0, description='Epoch 13', max=11720, style=ProgressStyle(description_width='…"
      ]
     },
     "metadata": {},
     "output_type": "display_data"
    },
    {
     "data": {
      "application/vnd.jupyter.widget-view+json": {
       "model_id": "",
       "version_major": 2,
       "version_minor": 0
      },
      "text/plain": [
       "HBox(children=(IntProgress(value=0, description='Epoch 14', max=11720, style=ProgressStyle(description_width='…"
      ]
     },
     "metadata": {},
     "output_type": "display_data"
    },
    {
     "data": {
      "application/vnd.jupyter.widget-view+json": {
       "model_id": "",
       "version_major": 2,
       "version_minor": 0
      },
      "text/plain": [
       "HBox(children=(IntProgress(value=0, description='Epoch 15', max=11720, style=ProgressStyle(description_width='…"
      ]
     },
     "metadata": {},
     "output_type": "display_data"
    },
    {
     "data": {
      "application/vnd.jupyter.widget-view+json": {
       "model_id": "",
       "version_major": 2,
       "version_minor": 0
      },
      "text/plain": [
       "HBox(children=(IntProgress(value=0, description='Epoch 16', max=11720, style=ProgressStyle(description_width='…"
      ]
     },
     "metadata": {},
     "output_type": "display_data"
    },
    {
     "data": {
      "application/vnd.jupyter.widget-view+json": {
       "model_id": "",
       "version_major": 2,
       "version_minor": 0
      },
      "text/plain": [
       "HBox(children=(IntProgress(value=0, description='Epoch 17', max=11720, style=ProgressStyle(description_width='…"
      ]
     },
     "metadata": {},
     "output_type": "display_data"
    },
    {
     "data": {
      "application/vnd.jupyter.widget-view+json": {
       "model_id": "",
       "version_major": 2,
       "version_minor": 0
      },
      "text/plain": [
       "HBox(children=(IntProgress(value=0, description='Epoch 18', max=11720, style=ProgressStyle(description_width='…"
      ]
     },
     "metadata": {},
     "output_type": "display_data"
    },
    {
     "data": {
      "application/vnd.jupyter.widget-view+json": {
       "model_id": "",
       "version_major": 2,
       "version_minor": 0
      },
      "text/plain": [
       "HBox(children=(IntProgress(value=0, description='Epoch 19', max=11720, style=ProgressStyle(description_width='…"
      ]
     },
     "metadata": {},
     "output_type": "display_data"
    }
   ],
   "source": [
    "from keras_tqdm import TQDMNotebookCallback\n",
    "from keras.callbacks import EarlyStopping\n",
    "\n",
    "es= EarlyStopping(monitor='val_loss', min_delta=0,patience=5,verbose=0, mode='auto')\n",
    "\n",
    "# Fit the model\n",
    "history = model.fit(trainX, trainY, validation_split = 0.33, epochs=50, batch_size=20, verbose=0, callbacks=[TQDMNotebookCallback(),es])"
   ]
  },
  {
   "cell_type": "code",
   "execution_count": 502,
   "metadata": {},
   "outputs": [
    {
     "name": "stdout",
     "output_type": "stream",
     "text": [
      "dict_keys(['val_loss', 'val_acc', 'loss', 'acc'])\n"
     ]
    },
    {
     "data": {
      "image/png": "[encoded data removed]",
      "text/plain": [
       "<Figure size 432x288 with 1 Axes>"
      ]
     },
     "metadata": {},
     "output_type": "display_data"
    }
   ],
   "source": [
    "from matplotlib import pyplot as plt\n",
    "\n",
    "# List all data in history\n",
    "print(history.history.keys())\n",
    "\n",
    "# summarize history for accuracy\n",
    "plt.plot(history.history['acc'])\n",
    "plt.plot(history.history['val_acc'])\n",
    "plt.title('model accuracy')\n",
    "plt.ylabel('accuracy')\n",
    "plt.xlabel('epoch')\n",
    "plt.legend(['train','validation'])\n",
    "plt.show()"
   ]
  },
  {
   "cell_type": "code",
   "execution_count": 503,
   "metadata": {},
   "outputs": [
    {
     "data": {
      "image/png": "[encoded data removed]",
      "text/plain": [
       "<Figure size 432x288 with 1 Axes>"
      ]
     },
     "metadata": {},
     "output_type": "display_data"
    }
   ],
   "source": [
    "# summarize history for loss\n",
    "plt.plot(history.history['loss'])\n",
    "plt.plot(history.history['val_loss'])\n",
    "plt.title('model loss')\n",
    "plt.ylabel('loss')\n",
    "plt.xlabel('epoch')\n",
    "plt.legend(['train','validation'])\n",
    "plt.show()"
   ]
  },
  {
   "cell_type": "code",
   "execution_count": 504,
   "metadata": {},
   "outputs": [
    {
     "name": "stdout",
     "output_type": "stream",
     "text": [
      "_________________________________________________________________\n",
      "Layer (type)                 Output Shape              Param #   \n",
      "=================================================================\n",
      "lstm_17 (LSTM)               (None, 44)                8976      \n",
      "_________________________________________________________________\n",
      "dense_33 (Dense)             (None, 44)                1980      \n",
      "_________________________________________________________________\n",
      "dropout_17 (Dropout)         (None, 44)                0         \n",
      "_________________________________________________________________\n",
      "dense_34 (Dense)             (None, 1)                 45        \n",
      "=================================================================\n",
      "Total params: 11,001\n",
      "Trainable params: 11,001\n",
      "Non-trainable params: 0\n",
      "_________________________________________________________________\n"
     ]
    }
   ],
   "source": [
    "model.summary()"
   ]
  },
  {
   "cell_type": "markdown",
   "metadata": {},
   "source": [
    "## 8. Save the predictions and actual value to evaluate the model\n",
    "\n",
    "The predictions are floating point values and we recode them as 1 if greater than 0.5 and 0 otherwise."
   ]
  },
  {
   "cell_type": "code",
   "execution_count": 505,
   "metadata": {},
   "outputs": [],
   "source": [
    "testY_predict = model.predict(testX)"
   ]
  },
  {
   "cell_type": "code",
   "execution_count": 506,
   "metadata": {},
   "outputs": [
    {
     "name": "stdout",
     "output_type": "stream",
     "text": [
      "[[6.5232511e-05]\n",
      " [6.0161707e-05]\n",
      " [7.1859991e-05]\n",
      " ...\n",
      " [2.1765872e-03]\n",
      " [3.1838636e-03]\n",
      " [2.4791840e-03]]\n"
     ]
    }
   ],
   "source": [
    "print(testY_predict)"
   ]
  },
  {
   "cell_type": "code",
   "execution_count": 507,
   "metadata": {},
   "outputs": [
    {
     "name": "stdout",
     "output_type": "stream",
     "text": [
      "7495 7495\n"
     ]
    }
   ],
   "source": [
    "print(len(testY), len(testY_predict))"
   ]
  },
  {
   "cell_type": "code",
   "execution_count": 508,
   "metadata": {},
   "outputs": [],
   "source": [
    "predicted = []\n",
    "actual = []\n",
    "for i in range(len(testY)):\n",
    "    #print(int(testY_predict[i]>0.5), int(testY[i]>0.5))\n",
    "    predicted.append(int(testY_predict[i]>0.5))\n",
    "    actual.append(int(testY[i]>0.5))"
   ]
  },
  {
   "cell_type": "code",
   "execution_count": 509,
   "metadata": {},
   "outputs": [],
   "source": [
    "PREDICTIONS_DF = pd.DataFrame(list(zip(predicted, actual)),\n",
    "  columns=['predicted','actual'])"
   ]
  },
  {
   "cell_type": "code",
   "execution_count": 510,
   "metadata": {},
   "outputs": [
    {
     "data": {
      "text/html": [
       "<div>\n",
       "<style scoped>\n",
       "    .dataframe tbody tr th:only-of-type {\n",
       "        vertical-align: middle;\n",
       "    }\n",
       "\n",
       "    .dataframe tbody tr th {\n",
       "        vertical-align: top;\n",
       "    }\n",
       "\n",
       "    .dataframe thead th {\n",
       "        text-align: right;\n",
       "    }\n",
       "</style>\n",
       "<table border=\"1\" class=\"dataframe\">\n",
       "  <thead>\n",
       "    <tr style=\"text-align: right;\">\n",
       "      <th></th>\n",
       "      <th>predicted</th>\n",
       "      <th>actual</th>\n",
       "    </tr>\n",
       "  </thead>\n",
       "  <tbody>\n",
       "    <tr>\n",
       "      <th>0</th>\n",
       "      <td>0</td>\n",
       "      <td>0</td>\n",
       "    </tr>\n",
       "    <tr>\n",
       "      <th>1</th>\n",
       "      <td>0</td>\n",
       "      <td>0</td>\n",
       "    </tr>\n",
       "    <tr>\n",
       "      <th>2</th>\n",
       "      <td>0</td>\n",
       "      <td>0</td>\n",
       "    </tr>\n",
       "    <tr>\n",
       "      <th>3</th>\n",
       "      <td>0</td>\n",
       "      <td>0</td>\n",
       "    </tr>\n",
       "    <tr>\n",
       "      <th>4</th>\n",
       "      <td>0</td>\n",
       "      <td>0</td>\n",
       "    </tr>\n",
       "  </tbody>\n",
       "</table>\n",
       "</div>"
      ],
      "text/plain": [
       "   predicted  actual\n",
       "0          0       0\n",
       "1          0       0\n",
       "2          0       0\n",
       "3          0       0\n",
       "4          0       0"
      ]
     },
     "execution_count": 510,
     "metadata": {},
     "output_type": "execute_result"
    }
   ],
   "source": [
    "PREDICTIONS_DF.head()"
   ]
  },
  {
   "cell_type": "code",
   "execution_count": 511,
   "metadata": {},
   "outputs": [],
   "source": [
    "# write dataframe to .csv\n",
    "SAVE_PATH = './Predicted Data_model_csv format/'\n",
    "PREDICTIONS_DF.to_csv(SAVE_PATH+'Sub'+SUBJECT_ID+'_'+ ACTIVITY + '_'+ EVENT + '.csv', encoding='utf-8')"
   ]
  },
  {
   "cell_type": "code",
   "execution_count": null,
   "metadata": {},
   "outputs": [],
   "source": []
  }
 ],
 "metadata": {
  "kernelspec": {
   "display_name": "Python 3",
   "language": "python",
   "name": "python3"
  },
  "language_info": {
   "codemirror_mode": {
    "name": "ipython",
    "version": 3
   },
   "file_extension": ".py",
   "mimetype": "text/x-python",
   "name": "python",
   "nbconvert_exporter": "python",
   "pygments_lexer": "ipython3",
   "version": "3.6.4"
  }
 },
 "nbformat": 4,
 "nbformat_minor": 2
}
