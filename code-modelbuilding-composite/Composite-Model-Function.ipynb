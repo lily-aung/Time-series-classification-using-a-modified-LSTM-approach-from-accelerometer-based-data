{
 "cells": [
  {
   "cell_type": "markdown",
   "metadata": {},
   "source": [
    "# LSTM Model to detect Heel Strike and Toe-off events\n",
    "\n",
    "In this notebook, we will predict whether each sample is a heel strike or toe-off based on the accelerometer data. To do so, we train an LSTM (Long-Short Term Memory) model on 70% of the data and test it on the remaining 30%\n",
    "\n",
    "The LSTM architecture has\n",
    "- a lookback window of 3 timesteps\n",
    "- 6 features (X,Y,Z acceleration of left foot and right foot) \n",
    "- 44 hidden nodes\n",
    "\n",
    "**The code is the same as that in Composite-Model.pynb, except that we use a for loop to iterate over all possible combinations of SUBJECT_ID, ACTIVITY and EVENT**\n",
    "\n",
    "The subsequent steps to tune and test the model are as follows:\n",
    "\n",
    "1. Subset the data based on subject, activity, and event\n",
    "2. Oversampling and adding in composite accelerations\n",
    "3. Remove noise from the data\n",
    "4. Re-scale each of the features to range (0,5)\n",
    "5. Split the data into training and testing sets  \n",
    "6. Since we are using an LSTM architecture, we will implement a look-back function that will introduce historical data determined by the window size\n",
    "7. Build and compile the Neural Network\n",
    "8. Fit the model\n",
    "9. Save the predictions and actual value to evaluate the model. The model is evaluated in terms of \n",
    "    - F1 score\n",
    "    - Percentage of true positives\n",
    "    - Mean of the absolute difference in time between true positives and corresponding GT events"
   ]
  },
  {
   "cell_type": "code",
   "execution_count": 1,
   "metadata": {},
   "outputs": [
    {
     "name": "stderr",
     "output_type": "stream",
     "text": [
      "/Users/tankh/anaconda3/lib/python3.6/site-packages/h5py/__init__.py:36: FutureWarning: Conversion of the second argument of issubdtype from `float` to `np.floating` is deprecated. In future, it will be treated as `np.float64 == np.dtype(float).type`.\n",
      "  from ._conv import register_converters as _register_converters\n",
      "Using TensorFlow backend.\n"
     ]
    }
   ],
   "source": [
    "import numpy\n",
    "import numpy as np\n",
    "import pandas as pd\n",
    "from sklearn.preprocessing import MinMaxScaler\n",
    "from keras.models import Sequential\n",
    "from keras.layers import LSTM, Dense, Dropout\n",
    "from keras_tqdm import TQDMNotebookCallback\n",
    "from keras.callbacks import EarlyStopping\n",
    "\n",
    "from matplotlib import pyplot as plt"
   ]
  },
  {
   "cell_type": "markdown",
   "metadata": {},
   "source": [
    "# Note: before you run the code\n",
    "\n",
    "You can adjust the list of subject Ids, activities and events in the next cell.\n",
    "Some parts are specific to indoors/outdoors, so you will need to comment the part if needed, and uncomment it it's if not needed."
   ]
  },
  {
   "cell_type": "markdown",
   "metadata": {},
   "source": [
    "## 1. Specify the list of subjects, activities and events\n"
   ]
  },
  {
   "cell_type": "code",
   "execution_count": 2,
   "metadata": {},
   "outputs": [],
   "source": [
    "####### Select Subject Id #######\n",
    "# Key in a number from 1 to 20. \n",
    "\n",
    "# indoors\n",
    "SUBJECT_ID_LIST = ['18']\n",
    "# SUBJECT_ID_LIST = ['1','2','3','4','5','6','7','8','9','10','11']\n",
    "# # outdoors\n",
    "# SUBJECT_ID_LIST = ['12','13','14','15','16','17','18','19','20']\n",
    "\n",
    "###### Select Activity ######\n",
    "# Key in one of the options below:\n",
    "\n",
    "# indoors\n",
    "ACTIVITY_LIST = ['outdoor_walknrun']\n",
    "# ACTIVITY_LIST = ['treadmill_walk','treadmill_walknrun','treadmill_run','treadmill_all','indoor_walk','indoor_run','indoor_walknrun']\n",
    "# # outdoors\n",
    "# ACTIVITY_LIST = ['outdoor_walk','outdoor_run','outdoor_walknrun']\n",
    "\n",
    "###### Select Event ######\n",
    "EVENT_LIST = ['RF_HS','RF_TO']\n",
    "# EVENT_LIST = ['LF_HS','LF_TO','RF_HS','RF_TO']"
   ]
  },
  {
   "cell_type": "markdown",
   "metadata": {},
   "source": [
    "## 2. Define helper functions\n",
    "\n",
    "We will define two functions to be used in the for loop later, one to create a indicator variable for 'treadmill_all', the other to create the dataset for feeding into the RNN."
   ]
  },
  {
   "cell_type": "markdown",
   "metadata": {},
   "source": [
    "Since there is no indicator variable for treadmill_all for subjects 1-11, let's create another column which for this. The value of this data is 1 if either treadmill_walknrun is 1 or treadmill_slope_walk is 1"
   ]
  },
  {
   "cell_type": "code",
   "execution_count": 3,
   "metadata": {},
   "outputs": [],
   "source": [
    "###############################################\n",
    "######## Specific to indoors only #############\n",
    "###############################################\n",
    "\n",
    "# for SUBJECT_ID 1 to 11, uncomment if otherwise\n",
    "# we will use this function in the for loop later\n",
    "\n",
    "def label_treadmill_all (row):\n",
    "   if row['treadmill_walknrun'] == 1:\n",
    "      return 1\n",
    "   if row['treadmill_slope_walk'] == 1:\n",
    "      return 1\n",
    "   return 0\n",
    "\n",
    "def label_treadmill_run (row):\n",
    "   if row['treadmill_walknrun'] == 1 and row['treadmill_walk'] == 0:\n",
    "      return 1\n",
    "   return 0\n",
    "\n",
    "def label_indoor_run (row):\n",
    "   if row['indoor_walknrun'] == 1 and row['indoor_walk'] == 0:\n",
    "      return 1\n",
    "   return 0\n",
    "\n",
    "###############################################\n",
    "######## Specific to outdoors only ############\n",
    "###############################################\n",
    "\n",
    "# for SUBJECT_ID 12 to 20, uncomment if otherwise\n",
    "# we will use this function in the for loop later\n",
    "\n",
    "def label_outdoor_run (row):\n",
    "   if row['outdoor_walknrun'] == 1 and row['outdoor_walk'] == 0:\n",
    "      return 1\n",
    "   return 0"
   ]
  },
  {
   "cell_type": "markdown",
   "metadata": {},
   "source": [
    "We define another function called oversampling. This will change the indicators for HS and TOs to '1' of time steps close to the actual HS and TOs"
   ]
  },
  {
   "cell_type": "code",
   "execution_count": 4,
   "metadata": {},
   "outputs": [],
   "source": [
    "def oversample(event):\n",
    "    global df\n",
    "    temp_list = []\n",
    "    for i in range(len(df)):\n",
    "        if i>=2 and i+3<=len(df):\n",
    "            if df[event][i-1]==1 or df[event][i]==1 or df[event][i+1]==1:\n",
    "            # if df[event][i-2]==1 or df[event][i-1]==1 or df[event][i]==1 or df[event][i+1]==1 or df[event][i+2]==1:\n",
    "                temp_list.append(1)\n",
    "            else:\n",
    "                temp_list.append(0)\n",
    "        else:\n",
    "            temp_list.append(0)\n",
    "#     return temp_list\n",
    "    df[event+'_2']=temp_list"
   ]
  },
  {
   "cell_type": "code",
   "execution_count": 5,
   "metadata": {},
   "outputs": [],
   "source": [
    "# convert an array of values into a dataset matrix\n",
    "# we will use this function in the for loop later\n",
    "def create_dataset(dataset, look_back=1):\n",
    "\tdataX, dataY, dataZ = [], [], []\n",
    "\tfor i in range(len(dataset)-look_back-1):\n",
    "\t\ta = dataset[i:(i+look_back), 0:14]\n",
    "\t\tdataX.append(a)\n",
    "\t\tdataY.append(dataset[i + look_back, 15])\n",
    "\t\tdataZ.append(dataset[i + look_back, 14])        \n",
    "\treturn numpy.array(dataX), numpy.array(dataY), numpy.array(dataZ)"
   ]
  },
  {
   "cell_type": "markdown",
   "metadata": {},
   "source": [
    "## 3. Train Model and save Predictions\n",
    "\n",
    "If training for indoor activity, use the next cell and comment the cell after that.\n",
    "\n",
    "If training for indoor activity, comment the next cell and use the cell after that."
   ]
  },
  {
   "cell_type": "code",
   "execution_count": 6,
   "metadata": {},
   "outputs": [],
   "source": [
    "# for SUBJECT_ID in SUBJECT_ID_LIST:\n",
    "#     for ACTIVITY in ACTIVITY_LIST:\n",
    "#         for EVENT in EVENT_LIST:\n",
    "#             # read in the data\n",
    "#             DATA_PATH = './Combined Data_csv format/'\n",
    "#             df = pd.read_csv(DATA_PATH + 'Sub_'+ SUBJECT_ID + '.csv', header = 0)          \n",
    "#             df = df.drop(df.columns[0], axis=1)\n",
    "#             df['treadmill_all']=df.apply (lambda row: label_treadmill_all(row),axis=1)\n",
    "#             df['treadmill_run']=df.apply (lambda row: label_treadmill_run(row),axis=1)\n",
    "#             df['indoor_run']=df.apply (lambda row: label_indoor_run(row),axis=1)\n",
    "            \n",
    "#             oversample(EVENT)\n",
    "            \n",
    "#             print(\"Currently running for: \" + \" -Subject: \" + SUBJECT_ID + ' -Activity: ' + ACTIVITY + ' -Event: ' + EVENT)\n",
    "\n",
    "#             # Subset out the data by activity of interest\n",
    "#             k1=df[df[ACTIVITY]==1]\n",
    "            \n",
    "#             # Add in the composite acceleration: sqrt(accX^2+accY^2+accZ^2)\n",
    "#             k1['acc_LF'] = np.sqrt(k1['accX_LF']*k1['accX_LF']+k1['accY_LF']*k1['accY_LF']+k1['accZ_LF']*k1['accZ_LF'])\n",
    "#             k1['acc_RF'] = np.sqrt(k1['accX_RF']*k1['accX_RF']+k1['accY_RF']*k1['accY_RF']+k1['accZ_RF']*k1['accZ_RF'])\n",
    "\n",
    "#             k1['acc_LF_xy'] = np.sqrt(k1['accX_LF']*k1['accX_LF']+k1['accY_LF']*k1['accY_LF'])\n",
    "#             k1['acc_RF_xy'] = np.sqrt(k1['accX_RF']*k1['accX_RF']+k1['accY_RF']*k1['accY_RF'])\n",
    "\n",
    "#             k1['acc_LF_yz'] = np.sqrt(k1['accY_LF']*k1['accY_LF']+k1['accZ_LF']*k1['accZ_LF'])\n",
    "#             k1['acc_RF_yz'] = np.sqrt(k1['accY_RF']*k1['accY_RF']+k1['accZ_RF']*k1['accZ_RF'])\n",
    "\n",
    "#             k1['acc_LF_xz'] = np.sqrt(k1['accX_LF']*k1['accX_LF']+k1['accZ_LF']*k1['accZ_LF'])\n",
    "#             k1['acc_RF_xz'] = np.sqrt(k1['accX_RF']*k1['accX_RF']+k1['accZ_RF']*k1['accZ_RF'])\n",
    "            \n",
    "#             # Select the columns you want -- the first few accelerometer data and event of interest\n",
    "#             k2 = k1[['accX_LF','accY_LF','accZ_LF','accX_RF','accY_RF','accZ_RF','acc_LF','acc_RF','acc_LF_xy','acc_RF_xy','acc_LF_yz','acc_RF_yz','acc_LF_xz','acc_RF_xz', EVENT, EVENT+'_2']]\n",
    "\n",
    "#             # Remove noise from data\n",
    "#             k2['accX_LF_median']=k2['accX_LF'].rolling(window=3).mean()\n",
    "#             k2['accY_LF_median']=k2['accY_LF'].rolling(window=3).mean()\n",
    "#             k2['accZ_LF_median']=k2['accZ_LF'].rolling(window=3).mean()\n",
    "#             k2['acc_LF_median']=k2['acc_LF'].rolling(window=3).mean()\n",
    "#             k2['acc_LF_median_xy']=k2['acc_LF_xy'].rolling(window=3).mean()\n",
    "#             k2['acc_LF_median_yz']=k2['acc_LF_yz'].rolling(window=3).mean()\n",
    "#             k2['acc_LF_median_xz']=k2['acc_LF_xz'].rolling(window=3).mean()\n",
    "\n",
    "#             k2['accX_RF_median']=k2['accX_RF'].rolling(window=3).mean()\n",
    "#             k2['accY_RF_median']=k2['accY_RF'].rolling(window=3).mean()\n",
    "#             k2['accZ_RF_median']=k2['accZ_RF'].rolling(window=3).mean()\n",
    "#             k2['acc_RF_median']=k2['acc_RF'].rolling(window=3).mean()\n",
    "#             k2['acc_RF_median_xy']=k2['acc_RF_xy'].rolling(window=3).mean()\n",
    "#             k2['acc_RF_median_yz']=k2['acc_RF_yz'].rolling(window=3).mean()\n",
    "#             k2['acc_RF_median_xz']=k2['acc_RF_xz'].rolling(window=3).mean()\n",
    "\n",
    "#             k3 = k2[['accX_LF_median','accY_LF_median','accZ_LF_median','acc_LF_median','acc_LF_median_xy','acc_LF_median_yz','acc_LF_median_xz','accX_RF_median','accY_RF_median','accZ_RF_median','acc_RF_median','acc_RF_median_xy','acc_RF_median_yz', 'acc_RF_median_xz', EVENT, EVENT+'_2']]\n",
    "#             k3 = k3.iloc[2:]\n",
    "#             dataset = k3.values\n",
    "\n",
    "#             # normalize the dataset\n",
    "#             scaler = MinMaxScaler(feature_range=(0, 5))\n",
    "#             dataset = scaler.fit_transform(dataset)\n",
    "\n",
    "#             # split into train and test sets\n",
    "#             train_size = int(len(dataset) * 0.7)\n",
    "#             test_size = len(dataset) - train_size\n",
    "#             train, test = dataset[0:train_size,:], dataset[train_size:len(dataset),:]\n",
    "\n",
    "#             look_back=3 # 3 timesteps\n",
    "#             trainX, trainY, trainZ = create_dataset(train, look_back)\n",
    "#             testX, testY, testZ = create_dataset(test, look_back)\n",
    "            \n",
    "#             model = Sequential()\n",
    "\n",
    "#             # Recurrent layer\n",
    "#             model.add(LSTM(44, return_sequences=True, dropout=0.1, recurrent_dropout=0.1))\n",
    "#             # Fully connected layer\n",
    "#             model.add(Dense(44, activation='relu'))\n",
    "#             # Recurrent layer\n",
    "#             model.add(LSTM(44, return_sequences=False, dropout=0.1, recurrent_dropout=0.1))\n",
    "#             # Fully connected layer\n",
    "#             model.add(Dense(44, activation='relu'))\n",
    "#             # Dropout for regularization\n",
    "#             model.add(Dropout(0.5))\n",
    "#             # Output layer\n",
    "#             model.add(Dense(1, activation='sigmoid'))\n",
    "#             # Compile the model\n",
    "#             model.compile(optimizer='adam', loss='binary_crossentropy', metrics=['accuracy'])\n",
    "\n",
    "#             # Fit the model\n",
    "#             es= EarlyStopping(monitor='val_loss', min_delta=0,patience=5,verbose=0, mode='auto')\n",
    "#             history = model.fit(trainX, trainY, validation_split = 0.33, epochs=50, batch_size=20, verbose=0, callbacks=[TQDMNotebookCallback(),es])\n",
    "\n",
    "#             # List all data in history\n",
    "#             print(history.history.keys())\n",
    "\n",
    "#             # summarize history for accuracy\n",
    "#             plt.plot(history.history['acc'])\n",
    "#             plt.plot(history.history['val_acc'])\n",
    "#             plt.title('model accuracy')\n",
    "#             plt.ylabel('accuracy')\n",
    "#             plt.xlabel('epoch')\n",
    "#             plt.legend(['train','validation'])\n",
    "#             plt.show()\n",
    "\n",
    "#             # summarize history for loss\n",
    "#             plt.plot(history.history['loss'])\n",
    "#             plt.plot(history.history['val_loss'])\n",
    "#             plt.title('model loss')\n",
    "#             plt.ylabel('loss')\n",
    "#             plt.xlabel('epoch')\n",
    "#             plt.legend(['train','validation'])\n",
    "#             plt.show()\n",
    "\n",
    "#             model.summary()\n",
    "\n",
    "#             testY_predict = model.predict(testX)\n",
    "\n",
    "#             predicted = []\n",
    "#             actual = []\n",
    "#             for i in range(len(testZ)):\n",
    "#                 #print(int(testY_predict[i]>0.5), int(testZ[i]>0.5))\n",
    "#                 predicted.append(int(testY_predict[i]>0.5))\n",
    "#                 actual.append(int(testZ[i]>0.5))\n",
    "\n",
    "#             PREDICTIONS_DF = pd.DataFrame(list(zip(predicted, actual)), columns=['predicted','actual'])\n",
    "\n",
    "#             # write dataframe to .csv\n",
    "#             SAVE_PATH = './Predicted Data_model_csv format/'\n",
    "#             PREDICTIONS_DF.to_csv(SAVE_PATH+'Sub'+SUBJECT_ID+'_'+ ACTIVITY + '_'+ EVENT + '.csv', encoding='utf-8')\n"
   ]
  },
  {
   "cell_type": "code",
   "execution_count": 7,
   "metadata": {},
   "outputs": [
    {
     "name": "stdout",
     "output_type": "stream",
     "text": [
      "Currently running for:  -Subject: 18 -Activity: outdoor_walknrun -Event: RF_HS\n"
     ]
    },
    {
     "name": "stderr",
     "output_type": "stream",
     "text": [
      "/Users/tankh/anaconda3/lib/python3.6/site-packages/ipykernel_launcher.py:34: SettingWithCopyWarning: \n",
      "A value is trying to be set on a copy of a slice from a DataFrame.\n",
      "Try using .loc[row_indexer,col_indexer] = value instead\n",
      "\n",
      "See the caveats in the documentation: http://pandas.pydata.org/pandas-docs/stable/indexing.html#indexing-view-versus-copy\n",
      "/Users/tankh/anaconda3/lib/python3.6/site-packages/ipykernel_launcher.py:35: SettingWithCopyWarning: \n",
      "A value is trying to be set on a copy of a slice from a DataFrame.\n",
      "Try using .loc[row_indexer,col_indexer] = value instead\n",
      "\n",
      "See the caveats in the documentation: http://pandas.pydata.org/pandas-docs/stable/indexing.html#indexing-view-versus-copy\n",
      "/Users/tankh/anaconda3/lib/python3.6/site-packages/ipykernel_launcher.py:36: SettingWithCopyWarning: \n",
      "A value is trying to be set on a copy of a slice from a DataFrame.\n",
      "Try using .loc[row_indexer,col_indexer] = value instead\n",
      "\n",
      "See the caveats in the documentation: http://pandas.pydata.org/pandas-docs/stable/indexing.html#indexing-view-versus-copy\n",
      "/Users/tankh/anaconda3/lib/python3.6/site-packages/ipykernel_launcher.py:37: SettingWithCopyWarning: \n",
      "A value is trying to be set on a copy of a slice from a DataFrame.\n",
      "Try using .loc[row_indexer,col_indexer] = value instead\n",
      "\n",
      "See the caveats in the documentation: http://pandas.pydata.org/pandas-docs/stable/indexing.html#indexing-view-versus-copy\n",
      "/Users/tankh/anaconda3/lib/python3.6/site-packages/ipykernel_launcher.py:38: SettingWithCopyWarning: \n",
      "A value is trying to be set on a copy of a slice from a DataFrame.\n",
      "Try using .loc[row_indexer,col_indexer] = value instead\n",
      "\n",
      "See the caveats in the documentation: http://pandas.pydata.org/pandas-docs/stable/indexing.html#indexing-view-versus-copy\n",
      "/Users/tankh/anaconda3/lib/python3.6/site-packages/ipykernel_launcher.py:39: SettingWithCopyWarning: \n",
      "A value is trying to be set on a copy of a slice from a DataFrame.\n",
      "Try using .loc[row_indexer,col_indexer] = value instead\n",
      "\n",
      "See the caveats in the documentation: http://pandas.pydata.org/pandas-docs/stable/indexing.html#indexing-view-versus-copy\n",
      "/Users/tankh/anaconda3/lib/python3.6/site-packages/ipykernel_launcher.py:40: SettingWithCopyWarning: \n",
      "A value is trying to be set on a copy of a slice from a DataFrame.\n",
      "Try using .loc[row_indexer,col_indexer] = value instead\n",
      "\n",
      "See the caveats in the documentation: http://pandas.pydata.org/pandas-docs/stable/indexing.html#indexing-view-versus-copy\n",
      "/Users/tankh/anaconda3/lib/python3.6/site-packages/ipykernel_launcher.py:42: SettingWithCopyWarning: \n",
      "A value is trying to be set on a copy of a slice from a DataFrame.\n",
      "Try using .loc[row_indexer,col_indexer] = value instead\n",
      "\n",
      "See the caveats in the documentation: http://pandas.pydata.org/pandas-docs/stable/indexing.html#indexing-view-versus-copy\n",
      "/Users/tankh/anaconda3/lib/python3.6/site-packages/ipykernel_launcher.py:43: SettingWithCopyWarning: \n",
      "A value is trying to be set on a copy of a slice from a DataFrame.\n",
      "Try using .loc[row_indexer,col_indexer] = value instead\n",
      "\n",
      "See the caveats in the documentation: http://pandas.pydata.org/pandas-docs/stable/indexing.html#indexing-view-versus-copy\n",
      "/Users/tankh/anaconda3/lib/python3.6/site-packages/ipykernel_launcher.py:44: SettingWithCopyWarning: \n",
      "A value is trying to be set on a copy of a slice from a DataFrame.\n",
      "Try using .loc[row_indexer,col_indexer] = value instead\n",
      "\n",
      "See the caveats in the documentation: http://pandas.pydata.org/pandas-docs/stable/indexing.html#indexing-view-versus-copy\n",
      "/Users/tankh/anaconda3/lib/python3.6/site-packages/ipykernel_launcher.py:45: SettingWithCopyWarning: \n",
      "A value is trying to be set on a copy of a slice from a DataFrame.\n",
      "Try using .loc[row_indexer,col_indexer] = value instead\n",
      "\n",
      "See the caveats in the documentation: http://pandas.pydata.org/pandas-docs/stable/indexing.html#indexing-view-versus-copy\n",
      "/Users/tankh/anaconda3/lib/python3.6/site-packages/ipykernel_launcher.py:46: SettingWithCopyWarning: \n",
      "A value is trying to be set on a copy of a slice from a DataFrame.\n",
      "Try using .loc[row_indexer,col_indexer] = value instead\n",
      "\n",
      "See the caveats in the documentation: http://pandas.pydata.org/pandas-docs/stable/indexing.html#indexing-view-versus-copy\n",
      "/Users/tankh/anaconda3/lib/python3.6/site-packages/ipykernel_launcher.py:47: SettingWithCopyWarning: \n",
      "A value is trying to be set on a copy of a slice from a DataFrame.\n",
      "Try using .loc[row_indexer,col_indexer] = value instead\n",
      "\n",
      "See the caveats in the documentation: http://pandas.pydata.org/pandas-docs/stable/indexing.html#indexing-view-versus-copy\n"
     ]
    },
    {
     "data": {
      "application/vnd.jupyter.widget-view+json": {
       "model_id": "d7e20030f8e647d8b539fb52706a9f61",
       "version_major": 2,
       "version_minor": 0
      },
      "text/plain": [
       "HBox(children=(IntProgress(value=0, description='Training', max=50, style=ProgressStyle(description_width='ini…"
      ]
     },
     "metadata": {},
     "output_type": "display_data"
    },
    {
     "data": {
      "application/vnd.jupyter.widget-view+json": {
       "model_id": "",
       "version_major": 2,
       "version_minor": 0
      },
      "text/plain": [
       "HBox(children=(IntProgress(value=0, description='Epoch 0', max=22883, style=ProgressStyle(description_width='i…"
      ]
     },
     "metadata": {},
     "output_type": "display_data"
    },
    {
     "data": {
      "application/vnd.jupyter.widget-view+json": {
       "model_id": "",
       "version_major": 2,
       "version_minor": 0
      },
      "text/plain": [
       "HBox(children=(IntProgress(value=0, description='Epoch 1', max=22883, style=ProgressStyle(description_width='i…"
      ]
     },
     "metadata": {},
     "output_type": "display_data"
    },
    {
     "data": {
      "application/vnd.jupyter.widget-view+json": {
       "model_id": "",
       "version_major": 2,
       "version_minor": 0
      },
      "text/plain": [
       "HBox(children=(IntProgress(value=0, description='Epoch 2', max=22883, style=ProgressStyle(description_width='i…"
      ]
     },
     "metadata": {},
     "output_type": "display_data"
    },
    {
     "data": {
      "application/vnd.jupyter.widget-view+json": {
       "model_id": "",
       "version_major": 2,
       "version_minor": 0
      },
      "text/plain": [
       "HBox(children=(IntProgress(value=0, description='Epoch 3', max=22883, style=ProgressStyle(description_width='i…"
      ]
     },
     "metadata": {},
     "output_type": "display_data"
    },
    {
     "data": {
      "application/vnd.jupyter.widget-view+json": {
       "model_id": "",
       "version_major": 2,
       "version_minor": 0
      },
      "text/plain": [
       "HBox(children=(IntProgress(value=0, description='Epoch 4', max=22883, style=ProgressStyle(description_width='i…"
      ]
     },
     "metadata": {},
     "output_type": "display_data"
    },
    {
     "data": {
      "application/vnd.jupyter.widget-view+json": {
       "model_id": "",
       "version_major": 2,
       "version_minor": 0
      },
      "text/plain": [
       "HBox(children=(IntProgress(value=0, description='Epoch 5', max=22883, style=ProgressStyle(description_width='i…"
      ]
     },
     "metadata": {},
     "output_type": "display_data"
    },
    {
     "data": {
      "application/vnd.jupyter.widget-view+json": {
       "model_id": "",
       "version_major": 2,
       "version_minor": 0
      },
      "text/plain": [
       "HBox(children=(IntProgress(value=0, description='Epoch 6', max=22883, style=ProgressStyle(description_width='i…"
      ]
     },
     "metadata": {},
     "output_type": "display_data"
    },
    {
     "data": {
      "application/vnd.jupyter.widget-view+json": {
       "model_id": "",
       "version_major": 2,
       "version_minor": 0
      },
      "text/plain": [
       "HBox(children=(IntProgress(value=0, description='Epoch 7', max=22883, style=ProgressStyle(description_width='i…"
      ]
     },
     "metadata": {},
     "output_type": "display_data"
    },
    {
     "data": {
      "application/vnd.jupyter.widget-view+json": {
       "model_id": "",
       "version_major": 2,
       "version_minor": 0
      },
      "text/plain": [
       "HBox(children=(IntProgress(value=0, description='Epoch 8', max=22883, style=ProgressStyle(description_width='i…"
      ]
     },
     "metadata": {},
     "output_type": "display_data"
    },
    {
     "data": {
      "application/vnd.jupyter.widget-view+json": {
       "model_id": "",
       "version_major": 2,
       "version_minor": 0
      },
      "text/plain": [
       "HBox(children=(IntProgress(value=0, description='Epoch 9', max=22883, style=ProgressStyle(description_width='i…"
      ]
     },
     "metadata": {},
     "output_type": "display_data"
    },
    {
     "data": {
      "application/vnd.jupyter.widget-view+json": {
       "model_id": "",
       "version_major": 2,
       "version_minor": 0
      },
      "text/plain": [
       "HBox(children=(IntProgress(value=0, description='Epoch 10', max=22883, style=ProgressStyle(description_width='…"
      ]
     },
     "metadata": {},
     "output_type": "display_data"
    },
    {
     "data": {
      "application/vnd.jupyter.widget-view+json": {
       "model_id": "",
       "version_major": 2,
       "version_minor": 0
      },
      "text/plain": [
       "HBox(children=(IntProgress(value=0, description='Epoch 11', max=22883, style=ProgressStyle(description_width='…"
      ]
     },
     "metadata": {},
     "output_type": "display_data"
    },
    {
     "data": {
      "application/vnd.jupyter.widget-view+json": {
       "model_id": "",
       "version_major": 2,
       "version_minor": 0
      },
      "text/plain": [
       "HBox(children=(IntProgress(value=0, description='Epoch 12', max=22883, style=ProgressStyle(description_width='…"
      ]
     },
     "metadata": {},
     "output_type": "display_data"
    },
    {
     "data": {
      "application/vnd.jupyter.widget-view+json": {
       "model_id": "",
       "version_major": 2,
       "version_minor": 0
      },
      "text/plain": [
       "HBox(children=(IntProgress(value=0, description='Epoch 13', max=22883, style=ProgressStyle(description_width='…"
      ]
     },
     "metadata": {},
     "output_type": "display_data"
    },
    {
     "data": {
      "application/vnd.jupyter.widget-view+json": {
       "model_id": "",
       "version_major": 2,
       "version_minor": 0
      },
      "text/plain": [
       "HBox(children=(IntProgress(value=0, description='Epoch 14', max=22883, style=ProgressStyle(description_width='…"
      ]
     },
     "metadata": {},
     "output_type": "display_data"
    },
    {
     "data": {
      "application/vnd.jupyter.widget-view+json": {
       "model_id": "",
       "version_major": 2,
       "version_minor": 0
      },
      "text/plain": [
       "HBox(children=(IntProgress(value=0, description='Epoch 15', max=22883, style=ProgressStyle(description_width='…"
      ]
     },
     "metadata": {},
     "output_type": "display_data"
    },
    {
     "data": {
      "application/vnd.jupyter.widget-view+json": {
       "model_id": "",
       "version_major": 2,
       "version_minor": 0
      },
      "text/plain": [
       "HBox(children=(IntProgress(value=0, description='Epoch 16', max=22883, style=ProgressStyle(description_width='…"
      ]
     },
     "metadata": {},
     "output_type": "display_data"
    },
    {
     "data": {
      "application/vnd.jupyter.widget-view+json": {
       "model_id": "",
       "version_major": 2,
       "version_minor": 0
      },
      "text/plain": [
       "HBox(children=(IntProgress(value=0, description='Epoch 17', max=22883, style=ProgressStyle(description_width='…"
      ]
     },
     "metadata": {},
     "output_type": "display_data"
    },
    {
     "data": {
      "application/vnd.jupyter.widget-view+json": {
       "model_id": "",
       "version_major": 2,
       "version_minor": 0
      },
      "text/plain": [
       "HBox(children=(IntProgress(value=0, description='Epoch 18', max=22883, style=ProgressStyle(description_width='…"
      ]
     },
     "metadata": {},
     "output_type": "display_data"
    },
    {
     "data": {
      "application/vnd.jupyter.widget-view+json": {
       "model_id": "",
       "version_major": 2,
       "version_minor": 0
      },
      "text/plain": [
       "HBox(children=(IntProgress(value=0, description='Epoch 19', max=22883, style=ProgressStyle(description_width='…"
      ]
     },
     "metadata": {},
     "output_type": "display_data"
    },
    {
     "name": "stdout",
     "output_type": "stream",
     "text": [
      "\n",
      "dict_keys(['val_loss', 'val_acc', 'loss', 'acc'])\n"
     ]
    },
    {
     "data": {
      "image/png": "[encoded data removed]",
      "text/plain": [
       "<Figure size 432x288 with 1 Axes>"
      ]
     },
     "metadata": {},
     "output_type": "display_data"
    },
    {
     "data": {
      "image/png": "[encoded data removed]",
      "text/plain": [
       "<Figure size 432x288 with 1 Axes>"
      ]
     },
     "metadata": {},
     "output_type": "display_data"
    },
    {
     "name": "stdout",
     "output_type": "stream",
     "text": [
      "_________________________________________________________________\n",
      "Layer (type)                 Output Shape              Param #   \n",
      "=================================================================\n",
      "lstm_1 (LSTM)                (None, 3, 44)             10384     \n",
      "_________________________________________________________________\n",
      "dense_1 (Dense)              (None, 3, 44)             1980      \n",
      "_________________________________________________________________\n",
      "lstm_2 (LSTM)                (None, 44)                15664     \n",
      "_________________________________________________________________\n",
      "dense_2 (Dense)              (None, 44)                1980      \n",
      "_________________________________________________________________\n",
      "dropout_1 (Dropout)          (None, 44)                0         \n",
      "_________________________________________________________________\n",
      "dense_3 (Dense)              (None, 1)                 45        \n",
      "=================================================================\n",
      "Total params: 30,053\n",
      "Trainable params: 30,053\n",
      "Non-trainable params: 0\n",
      "_________________________________________________________________\n",
      "Currently running for:  -Subject: 18 -Activity: outdoor_walknrun -Event: RF_TO\n"
     ]
    },
    {
     "data": {
      "application/vnd.jupyter.widget-view+json": {
       "model_id": "68e0a87a66b342e98deab8a6f1929a4e",
       "version_major": 2,
       "version_minor": 0
      },
      "text/plain": [
       "HBox(children=(IntProgress(value=0, description='Training', max=50, style=ProgressStyle(description_width='ini…"
      ]
     },
     "metadata": {},
     "output_type": "display_data"
    },
    {
     "data": {
      "application/vnd.jupyter.widget-view+json": {
       "model_id": "",
       "version_major": 2,
       "version_minor": 0
      },
      "text/plain": [
       "HBox(children=(IntProgress(value=0, description='Epoch 0', max=22883, style=ProgressStyle(description_width='i…"
      ]
     },
     "metadata": {},
     "output_type": "display_data"
    },
    {
     "data": {
      "application/vnd.jupyter.widget-view+json": {
       "model_id": "",
       "version_major": 2,
       "version_minor": 0
      },
      "text/plain": [
       "HBox(children=(IntProgress(value=0, description='Epoch 1', max=22883, style=ProgressStyle(description_width='i…"
      ]
     },
     "metadata": {},
     "output_type": "display_data"
    },
    {
     "data": {
      "application/vnd.jupyter.widget-view+json": {
       "model_id": "",
       "version_major": 2,
       "version_minor": 0
      },
      "text/plain": [
       "HBox(children=(IntProgress(value=0, description='Epoch 2', max=22883, style=ProgressStyle(description_width='i…"
      ]
     },
     "metadata": {},
     "output_type": "display_data"
    },
    {
     "data": {
      "application/vnd.jupyter.widget-view+json": {
       "model_id": "",
       "version_major": 2,
       "version_minor": 0
      },
      "text/plain": [
       "HBox(children=(IntProgress(value=0, description='Epoch 3', max=22883, style=ProgressStyle(description_width='i…"
      ]
     },
     "metadata": {},
     "output_type": "display_data"
    },
    {
     "data": {
      "application/vnd.jupyter.widget-view+json": {
       "model_id": "",
       "version_major": 2,
       "version_minor": 0
      },
      "text/plain": [
       "HBox(children=(IntProgress(value=0, description='Epoch 4', max=22883, style=ProgressStyle(description_width='i…"
      ]
     },
     "metadata": {},
     "output_type": "display_data"
    },
    {
     "data": {
      "application/vnd.jupyter.widget-view+json": {
       "model_id": "",
       "version_major": 2,
       "version_minor": 0
      },
      "text/plain": [
       "HBox(children=(IntProgress(value=0, description='Epoch 5', max=22883, style=ProgressStyle(description_width='i…"
      ]
     },
     "metadata": {},
     "output_type": "display_data"
    },
    {
     "data": {
      "application/vnd.jupyter.widget-view+json": {
       "model_id": "",
       "version_major": 2,
       "version_minor": 0
      },
      "text/plain": [
       "HBox(children=(IntProgress(value=0, description='Epoch 6', max=22883, style=ProgressStyle(description_width='i…"
      ]
     },
     "metadata": {},
     "output_type": "display_data"
    },
    {
     "data": {
      "application/vnd.jupyter.widget-view+json": {
       "model_id": "",
       "version_major": 2,
       "version_minor": 0
      },
      "text/plain": [
       "HBox(children=(IntProgress(value=0, description='Epoch 7', max=22883, style=ProgressStyle(description_width='i…"
      ]
     },
     "metadata": {},
     "output_type": "display_data"
    },
    {
     "data": {
      "application/vnd.jupyter.widget-view+json": {
       "model_id": "",
       "version_major": 2,
       "version_minor": 0
      },
      "text/plain": [
       "HBox(children=(IntProgress(value=0, description='Epoch 8', max=22883, style=ProgressStyle(description_width='i…"
      ]
     },
     "metadata": {},
     "output_type": "display_data"
    },
    {
     "name": "stdout",
     "output_type": "stream",
     "text": [
      "\n",
      "dict_keys(['val_loss', 'val_acc', 'loss', 'acc'])\n"
     ]
    },
    {
     "data": {
      "image/png": "[encoded data removed]",
      "text/plain": [
       "<Figure size 432x288 with 1 Axes>"
      ]
     },
     "metadata": {},
     "output_type": "display_data"
    },
    {
     "data": {
      "image/png": "[encoded data removed]",
      "text/plain": [
       "<Figure size 432x288 with 1 Axes>"
      ]
     },
     "metadata": {},
     "output_type": "display_data"
    },
    {
     "name": "stdout",
     "output_type": "stream",
     "text": [
      "_________________________________________________________________\n",
      "Layer (type)                 Output Shape              Param #   \n",
      "=================================================================\n",
      "lstm_3 (LSTM)                (None, 3, 44)             10384     \n",
      "_________________________________________________________________\n",
      "dense_4 (Dense)              (None, 3, 44)             1980      \n",
      "_________________________________________________________________\n",
      "lstm_4 (LSTM)                (None, 44)                15664     \n",
      "_________________________________________________________________\n",
      "dense_5 (Dense)              (None, 44)                1980      \n",
      "_________________________________________________________________\n",
      "dropout_2 (Dropout)          (None, 44)                0         \n",
      "_________________________________________________________________\n",
      "dense_6 (Dense)              (None, 1)                 45        \n",
      "=================================================================\n",
      "Total params: 30,053\n",
      "Trainable params: 30,053\n",
      "Non-trainable params: 0\n",
      "_________________________________________________________________\n"
     ]
    }
   ],
   "source": [
    "for SUBJECT_ID in SUBJECT_ID_LIST:\n",
    "    for ACTIVITY in ACTIVITY_LIST:\n",
    "        for EVENT in EVENT_LIST:\n",
    "            # read in the data\n",
    "            DATA_PATH = './Combined Data_csv format/'\n",
    "            df = pd.read_csv(DATA_PATH + 'Sub_'+ SUBJECT_ID + '.csv', header = 0)          \n",
    "            df = df.drop(df.columns[0], axis=1)\n",
    "            df['outdoor_run']=df.apply (lambda row: label_outdoor_run(row),axis=1)\n",
    "            \n",
    "            oversample(EVENT)\n",
    "            \n",
    "            print(\"Currently running for: \" + \" -Subject: \" + SUBJECT_ID + ' -Activity: ' + ACTIVITY + ' -Event: ' + EVENT)\n",
    "\n",
    "            # Subset out the data by activity of interest\n",
    "            k1=df[df[ACTIVITY]==1]\n",
    "            \n",
    "            # Add in the composite acceleration: sqrt(accX^2+accY^2+accZ^2)\n",
    "            k1['acc_LF'] = np.sqrt(k1['accX_LF']*k1['accX_LF']+k1['accY_LF']*k1['accY_LF']+k1['accZ_LF']*k1['accZ_LF'])\n",
    "            k1['acc_RF'] = np.sqrt(k1['accX_RF']*k1['accX_RF']+k1['accY_RF']*k1['accY_RF']+k1['accZ_RF']*k1['accZ_RF'])\n",
    "\n",
    "            k1['acc_LF_xy'] = np.sqrt(k1['accX_LF']*k1['accX_LF']+k1['accY_LF']*k1['accY_LF'])\n",
    "            k1['acc_RF_xy'] = np.sqrt(k1['accX_RF']*k1['accX_RF']+k1['accY_RF']*k1['accY_RF'])\n",
    "\n",
    "            k1['acc_LF_yz'] = np.sqrt(k1['accY_LF']*k1['accY_LF']+k1['accZ_LF']*k1['accZ_LF'])\n",
    "            k1['acc_RF_yz'] = np.sqrt(k1['accY_RF']*k1['accY_RF']+k1['accZ_RF']*k1['accZ_RF'])\n",
    "\n",
    "            k1['acc_LF_xz'] = np.sqrt(k1['accX_LF']*k1['accX_LF']+k1['accZ_LF']*k1['accZ_LF'])\n",
    "            k1['acc_RF_xz'] = np.sqrt(k1['accX_RF']*k1['accX_RF']+k1['accZ_RF']*k1['accZ_RF'])\n",
    "            \n",
    "            # Select the columns you want -- the first few accelerometer data and event of interest\n",
    "            k2 = k1[['accX_LF','accY_LF','accZ_LF','accX_RF','accY_RF','accZ_RF','acc_LF','acc_RF','acc_LF_xy','acc_RF_xy','acc_LF_yz','acc_RF_yz','acc_LF_xz','acc_RF_xz', EVENT, EVENT+'_2']]\n",
    "\n",
    "            # Remove noise from data\n",
    "            k2['accX_LF_median']=k2['accX_LF'].rolling(window=3).mean()\n",
    "            k2['accY_LF_median']=k2['accY_LF'].rolling(window=3).mean()\n",
    "            k2['accZ_LF_median']=k2['accZ_LF'].rolling(window=3).mean()\n",
    "            k2['acc_LF_median']=k2['acc_LF'].rolling(window=3).mean()\n",
    "            k2['acc_LF_median_xy']=k2['acc_LF_xy'].rolling(window=3).mean()\n",
    "            k2['acc_LF_median_yz']=k2['acc_LF_yz'].rolling(window=3).mean()\n",
    "            k2['acc_LF_median_xz']=k2['acc_LF_xz'].rolling(window=3).mean()\n",
    "\n",
    "            k2['accX_RF_median']=k2['accX_RF'].rolling(window=3).mean()\n",
    "            k2['accY_RF_median']=k2['accY_RF'].rolling(window=3).mean()\n",
    "            k2['accZ_RF_median']=k2['accZ_RF'].rolling(window=3).mean()\n",
    "            k2['acc_RF_median']=k2['acc_RF'].rolling(window=3).mean()\n",
    "            k2['acc_RF_median_xy']=k2['acc_RF_xy'].rolling(window=3).mean()\n",
    "            k2['acc_RF_median_yz']=k2['acc_RF_yz'].rolling(window=3).mean()\n",
    "            k2['acc_RF_median_xz']=k2['acc_RF_xz'].rolling(window=3).mean()\n",
    "\n",
    "            k3 = k2[['accX_LF_median','accY_LF_median','accZ_LF_median','acc_LF_median','acc_LF_median_xy','acc_LF_median_yz','acc_LF_median_xz','accX_RF_median','accY_RF_median','accZ_RF_median','acc_RF_median','acc_RF_median_xy','acc_RF_median_yz', 'acc_RF_median_xz', EVENT, EVENT+'_2']]\n",
    "            k3 = k3.iloc[2:]\n",
    "            dataset = k3.values\n",
    "\n",
    "            # normalize the dataset\n",
    "            scaler = MinMaxScaler(feature_range=(0, 5))\n",
    "            dataset = scaler.fit_transform(dataset)\n",
    "\n",
    "            # split into train and test sets\n",
    "            train_size = int(len(dataset) * 0.7)\n",
    "            test_size = len(dataset) - train_size\n",
    "            train, test = dataset[0:train_size,:], dataset[train_size:len(dataset),:]\n",
    "\n",
    "            look_back=3 # 3 timesteps\n",
    "            trainX, trainY, trainZ = create_dataset(train, look_back)\n",
    "            testX, testY, testZ = create_dataset(test, look_back)\n",
    "            \n",
    "            model = Sequential()\n",
    "\n",
    "            # Recurrent layer\n",
    "            model.add(LSTM(44, return_sequences=True, dropout=0.1, recurrent_dropout=0.1))\n",
    "            # Fully connected layer\n",
    "            model.add(Dense(44, activation='relu'))\n",
    "            # Recurrent layer\n",
    "            model.add(LSTM(44, return_sequences=False, dropout=0.1, recurrent_dropout=0.1))\n",
    "            # Fully connected layer\n",
    "            model.add(Dense(44, activation='relu'))\n",
    "            # Dropout for regularization\n",
    "            model.add(Dropout(0.5))\n",
    "            # Output layer\n",
    "            model.add(Dense(1, activation='sigmoid'))\n",
    "            # Compile the model\n",
    "            model.compile(optimizer='adam', loss='binary_crossentropy', metrics=['accuracy'])\n",
    "\n",
    "            # Fit the model\n",
    "            es= EarlyStopping(monitor='val_loss', min_delta=0,patience=5,verbose=0, mode='auto')\n",
    "            history = model.fit(trainX, trainY, validation_split = 0.33, epochs=50, batch_size=20, verbose=0, callbacks=[TQDMNotebookCallback(),es])\n",
    "\n",
    "            # List all data in history\n",
    "            print(history.history.keys())\n",
    "\n",
    "            # summarize history for accuracy\n",
    "            plt.plot(history.history['acc'])\n",
    "            plt.plot(history.history['val_acc'])\n",
    "            plt.title('model accuracy')\n",
    "            plt.ylabel('accuracy')\n",
    "            plt.xlabel('epoch')\n",
    "            plt.legend(['train','validation'])\n",
    "            plt.show()\n",
    "\n",
    "            # summarize history for loss\n",
    "            plt.plot(history.history['loss'])\n",
    "            plt.plot(history.history['val_loss'])\n",
    "            plt.title('model loss')\n",
    "            plt.ylabel('loss')\n",
    "            plt.xlabel('epoch')\n",
    "            plt.legend(['train','validation'])\n",
    "            plt.show()\n",
    "\n",
    "            model.summary()\n",
    "\n",
    "            testY_predict = model.predict(testX)\n",
    "\n",
    "            predicted = []\n",
    "            actual = []\n",
    "            for i in range(len(testZ)):\n",
    "                #print(int(testY_predict[i]>0.5), int(testZ[i]>0.5))\n",
    "                predicted.append(int(testY_predict[i]>0.5))\n",
    "                actual.append(int(testZ[i]>0.5))\n",
    "\n",
    "            PREDICTIONS_DF = pd.DataFrame(list(zip(predicted, actual)), columns=['predicted','actual'])\n",
    "\n",
    "            # write dataframe to .csv\n",
    "            SAVE_PATH = './Predicted Data_model_csv format/'\n",
    "            PREDICTIONS_DF.to_csv(SAVE_PATH+'Sub'+SUBJECT_ID+'_'+ ACTIVITY + '_'+ EVENT + '.csv', encoding='utf-8')"
   ]
  },
  {
   "cell_type": "code",
   "execution_count": null,
   "metadata": {},
   "outputs": [],
   "source": []
  }
 ],
 "metadata": {
  "kernelspec": {
   "display_name": "Python 3",
   "language": "python",
   "name": "python3"
  },
  "language_info": {
   "codemirror_mode": {
    "name": "ipython",
    "version": 3
   },
   "file_extension": ".py",
   "mimetype": "text/x-python",
   "name": "python",
   "nbconvert_exporter": "python",
   "pygments_lexer": "ipython3",
   "version": "3.6.4"
  }
 },
 "nbformat": 4,
 "nbformat_minor": 2
}
